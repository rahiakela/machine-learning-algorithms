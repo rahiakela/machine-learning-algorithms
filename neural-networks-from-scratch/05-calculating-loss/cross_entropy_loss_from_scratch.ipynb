{
  "nbformat": 4,
  "nbformat_minor": 0,
  "metadata": {
    "colab": {
      "name": "cross-entropy-loss-from-scratch.ipynb",
      "provenance": [],
      "toc_visible": true,
      "authorship_tag": "ABX9TyPNKeh/+lHzdxVGY5NmjUG2",
      "include_colab_link": true
    },
    "kernelspec": {
      "name": "python3",
      "display_name": "Python 3"
    },
    "language_info": {
      "name": "python"
    }
  },
  "cells": [
    {
      "cell_type": "markdown",
      "metadata": {
        "id": "view-in-github",
        "colab_type": "text"
      },
      "source": [
        "<a href=\"https://colab.research.google.com/github/rahiakela/machine-learning-algorithms/blob/main/neural-networks-from-scratch/05-calculating-loss/cross_entropy_loss_from_scratch.ipynb\" target=\"_parent\"><img src=\"https://colab.research.google.com/assets/colab-badge.svg\" alt=\"Open In Colab\"/></a>"
      ]
    },
    {
      "cell_type": "markdown",
      "metadata": {
        "id": "Y24c1aatvQoZ"
      },
      "source": [
        "## Cross-Entropy Loss from Scratch"
      ]
    },
    {
      "cell_type": "markdown",
      "metadata": {
        "id": "ZdDb087qvmHZ"
      },
      "source": [
        "To train a model, we tweak the weights and biases to improve the model’s accuracy and confidence. To do this, we calculate how much error the model has. The loss function , also referred to as the cost function , is the algorithm that quantifies how wrong a model is. Loss is the measure of this metric. Since loss is the model’s error, we ideally want it to be 0.\n",
        "\n",
        "The output of a neural network is actually confidence, and more confidence in the correct answer is better. Because of this, we strive to increase correct confidence and decrease misplaced confidence."
      ]
    },
    {
      "cell_type": "markdown",
      "metadata": {
        "id": "Hk-HKrl2vy-D"
      },
      "source": [
        "##Setup"
      ]
    },
    {
      "cell_type": "code",
      "metadata": {
        "id": "QZn01YLCvUZW"
      },
      "source": [
        "import numpy as np\n",
        "import math"
      ],
      "execution_count": 1,
      "outputs": []
    },
    {
      "cell_type": "markdown",
      "metadata": {
        "id": "g8S9cqiWv2fc"
      },
      "source": [
        "## Categorical Cross-Entropy Loss"
      ]
    },
    {
      "cell_type": "markdown",
      "metadata": {
        "id": "C5xA6L3Zv3hD"
      },
      "source": [
        "If you’re familiar with linear regression, then you already know one of the loss functions used with neural networks that do regression: squared error (or mean squared error with neural networks).\n",
        "\n",
        "The model has a softmax activation function for the output layer, which means it’s outputting a probability distribution. Categorical cross-entropy is explicitly used to compare a `ground-truth` probability ( y or `targets`) and some predicted distribution ( y-hat or `predictions`), so it makes sense to use cross-entropy here. It is also one of the most commonly used loss functions with a softmax activation on the output layer.\n",
        "\n",
        "The formula for calculating the categorical cross-entropy of `y` (actual/desired distribution) and `y-hat` (predicted distribution) is:\n",
        "\n",
        "$$\n",
        "L_i = - \\sum_j y_{i, j}log(\\hat{y_{i, j}})\n",
        "$$\n",
        "\n",
        "In general, the log loss error function is what we apply to the output of a binary logistic regression model — there are only two classes in the distribution, each of them applying to a single output (neuron) which is targeted as a `0` or `1`. In our case, we have a classification model that returns a probability distribution over all of the outputs. Cross-entropy\n",
        "compares two probability distributions. \n",
        "\n",
        "In our case, we have a softmax output, let’s say it’s:"
      ]
    },
    {
      "cell_type": "code",
      "metadata": {
        "id": "NitS9Zy5ukE0"
      },
      "source": [
        "softmax_output = [0.7, 0.1, 0.2]"
      ],
      "execution_count": 2,
      "outputs": []
    },
    {
      "cell_type": "markdown",
      "metadata": {
        "id": "DWdzPB4nCrnB"
      },
      "source": [
        "We have 3 class confidences in the above output, and let’s assume that the desired prediction is the first class (index 0, which is currently 0.7). If that’s the intended prediction, then the desired probability distribution is `[1, 0, 0]`.\n",
        "\n",
        "Arrays or vectors like this are called one-hot , meaning one of the values is “hot” (on), with a value of 1, and the rest are “cold” (off), with values of 0. When comparing the model’s results to a one-hot vector using cross-entropy, the other parts of the equation zero out, and the target probability’s log loss is\n",
        "multiplied by 1, making the cross-entropy calculation relatively simple. This is also a special case of the cross-entropy calculation, called categorical cross-entropy. \n",
        "\n",
        "<img src='https://github.com/rahiakela/machine-learning-algorithms/blob/main/neural-networks-from-scratch/05-calculating-loss/images/1.png?raw=1' width='800'/>\n",
        "\n",
        "To exemplify this — if we take a softmax output of `[0.7, 0.1, 0.2]` and targets of `[1, 0, 0]` , we can apply the calculations as follows:"
      ]
    },
    {
      "cell_type": "code",
      "metadata": {
        "id": "LKHAvPTjCiSp",
        "colab": {
          "base_uri": "https://localhost:8080/"
        },
        "outputId": "7049b131-1a91-40d6-90c5-37786035f671"
      },
      "source": [
        "L = -(1 * math.log(0.7) + 0 * math.log(0.1) + 0 * math.log(0.2))\n",
        "print(L)"
      ],
      "execution_count": 3,
      "outputs": [
        {
          "output_type": "stream",
          "name": "stdout",
          "text": [
            "0.35667494393873245\n"
          ]
        }
      ]
    },
    {
      "cell_type": "code",
      "metadata": {
        "id": "TEcZzwQZFF2-",
        "colab": {
          "base_uri": "https://localhost:8080/"
        },
        "outputId": "7effff45-360d-40a6-f4a2-14120f913a2c"
      },
      "source": [
        "L = -(-0.35667494393873245 + 0  + 0)\n",
        "print(L)"
      ],
      "execution_count": 4,
      "outputs": [
        {
          "output_type": "stream",
          "name": "stdout",
          "text": [
            "0.35667494393873245\n"
          ]
        }
      ]
    },
    {
      "cell_type": "markdown",
      "metadata": {
        "id": "lbeE3i6HFZVB"
      },
      "source": [
        "Let’s see the Python code for this:"
      ]
    },
    {
      "cell_type": "code",
      "metadata": {
        "id": "kz5dhekhFZ2r",
        "colab": {
          "base_uri": "https://localhost:8080/"
        },
        "outputId": "db1fd130-b2a6-4ab0-dedd-3c9c5f50161d"
      },
      "source": [
        "# An example output from the output layer of the neural network\n",
        "softmax_output = [0.7, 0.1, 0.2]\n",
        "# Ground truth\n",
        "target_output = [1, 0, 0]\n",
        "\n",
        "loss = -(math.log(softmax_output[0]) * target_output[0] +\n",
        "         math.log(softmax_output[1]) * target_output[1] +\n",
        "         math.log(softmax_output[2]) * target_output[2])\n",
        "\n",
        "print(loss)"
      ],
      "execution_count": 5,
      "outputs": [
        {
          "output_type": "stream",
          "name": "stdout",
          "text": [
            "0.35667494393873245\n"
          ]
        }
      ]
    },
    {
      "cell_type": "markdown",
      "metadata": {
        "id": "BKGD72WPH-gJ"
      },
      "source": [
        "That’s the full categorical cross-entropy calculation, but we can make a few assumptions given one-hot target vectors.\n",
        "\n",
        "The example confidence level might look like `[0.22, 0.6, 0.18]` or `[0.32, 0.36, 0.32]`. In both cases, the argmax of these vectors will return the second\n",
        "class as the prediction, but the model’s confidence about these predictions is high only for one of them. The Categorical Cross-Entropy Loss accounts for that and outputs a larger loss the lower the confidence is:"
      ]
    },
    {
      "cell_type": "code",
      "metadata": {
        "id": "i80a632pJPu0",
        "colab": {
          "base_uri": "https://localhost:8080/"
        },
        "outputId": "cf6997e6-17bc-4b52-c2c2-eb86d7491c25"
      },
      "source": [
        "print (math.log( 1. ))\n",
        "print (math.log( 0.95 ))\n",
        "print (math.log( 0.9 ))\n",
        "print (math.log( 0.8 ))\n",
        "print ( '...' )\n",
        "print (math.log( 0.2 ))\n",
        "print (math.log( 0.1 ))\n",
        "print (math.log( 0.05 ))\n",
        "print (math.log( 0.01 ))"
      ],
      "execution_count": 6,
      "outputs": [
        {
          "output_type": "stream",
          "name": "stdout",
          "text": [
            "0.0\n",
            "-0.05129329438755058\n",
            "-0.10536051565782628\n",
            "-0.2231435513142097\n",
            "...\n",
            "-1.6094379124341003\n",
            "-2.3025850929940455\n",
            "-2.995732273553991\n",
            "-4.605170185988091\n"
          ]
        }
      ]
    },
    {
      "cell_type": "markdown",
      "metadata": {
        "id": "KKCzLyhuJejz"
      },
      "source": [
        "When the confidence level equals 1 , meaning the model is 100% “sure” about its prediction, the loss value for this sample equals 0 . The loss value raises with the confidence level, approaching 0. You might also wonder\n",
        "why we did not print the result of log(0) — we’ll explain that shortly.\n",
        "\n",
        "Log is short for logarithm and is defined as the solution for the x-term in an equation of the form $a^x = b$.\n",
        "\n",
        "For example, $10^x = 100$ can be solved with a $log: log_10 (100)$ , which evaluates to 2. This property of the log function is especially beneficial when e (Euler’s number or `~2.71828`) is used in the base (where 10 is in the example). The logarithm with e as its base is referred to as the natural logarithm , natural log , or simply log — you may also see this written as $ln : ln(x) = log(x) = log_e (x)$.\n",
        "\n",
        "The natural log represents the solution for the x-term in the equation $e^x = b$ ; for example, $e^x = 5.2$ is solved by $log(5.2)$."
      ]
    },
    {
      "cell_type": "code",
      "metadata": {
        "id": "eWGmVrfP4pl9",
        "colab": {
          "base_uri": "https://localhost:8080/"
        },
        "outputId": "6319bda6-f6b4-49d7-a355-62abfd0f5a0f"
      },
      "source": [
        "b = 5.2\n",
        "print(np.log(b))"
      ],
      "execution_count": 7,
      "outputs": [
        {
          "output_type": "stream",
          "name": "stdout",
          "text": [
            "1.6486586255873816\n"
          ]
        }
      ]
    },
    {
      "cell_type": "markdown",
      "metadata": {
        "id": "OJOXOucO5cmG"
      },
      "source": [
        "We can confirm this by exponentiating our result:"
      ]
    },
    {
      "cell_type": "code",
      "metadata": {
        "id": "QDkXBwAt5dFO",
        "colab": {
          "base_uri": "https://localhost:8080/"
        },
        "outputId": "e76dabec-b062-4d38-a30b-7b612029ded7"
      },
      "source": [
        "print(math.e ** 1.6486586255873816)"
      ],
      "execution_count": 8,
      "outputs": [
        {
          "output_type": "stream",
          "name": "stdout",
          "text": [
            "5.199999999999999\n"
          ]
        }
      ]
    },
    {
      "cell_type": "markdown",
      "metadata": {
        "id": "AF8RV5dX5qq6"
      },
      "source": [
        "The small difference is the result of floating-point precision in Python.\n",
        "\n",
        "Consider a scenario with a neural network that performs classification between three classes, and the neural network classifies in batches of three. After running through the softmax activation function with a batch of 3 samples and 3 classes, the network’s output layer yields:"
      ]
    },
    {
      "cell_type": "code",
      "metadata": {
        "id": "iGfsdsMR67uJ"
      },
      "source": [
        "# Probabilities for 3 samples\n",
        "softmax_outputs = np.array([\n",
        "  [ 0.7 , 0.1 , 0.2 ],\n",
        "  [ 0.1 , 0.5 , 0.4 ],\n",
        "  [ 0.02 , 0.9 , 0.08 ]\n",
        "])"
      ],
      "execution_count": 9,
      "outputs": []
    },
    {
      "cell_type": "markdown",
      "metadata": {
        "id": "V8qYmgVC7V85"
      },
      "source": [
        "We need a way to dynamically calculate the categorical cross-entropy, which we now know is a negative log calculation. To determine which value in the softmax output to calculate the negative log from, we simply need to know our target values.\n",
        "\n",
        "In this example, there are 3 classes; let’s say we’re trying to classify something as a “dog,” “cat,” or “human.” A dog is class 0 (at index 0), a\n",
        "cat class 1 (index 1), and a human class 2 (index 2). \n",
        "\n",
        "Let’s assume the batch of three sample inputs to this neural network is being mapped to the target values of a dog, cat, and cat. So the targets (as a list of target indices) would be `[0, 1, 1]`."
      ]
    },
    {
      "cell_type": "code",
      "metadata": {
        "id": "BkOjIW-K7rCc"
      },
      "source": [
        "softmax_outputs = [\n",
        "  [ 0.7 , 0.1 , 0.2 ],\n",
        "  [ 0.1 , 0.5 , 0.4 ],\n",
        "  [ 0.02 , 0.9 , 0.08 ]\n",
        "]\n",
        "class_targets = [ 0 , 1 , 1 ] # dog, cat, cat"
      ],
      "execution_count": 10,
      "outputs": []
    },
    {
      "cell_type": "markdown",
      "metadata": {
        "id": "YhR9VDU-79Gb"
      },
      "source": [
        "- The first value, 0, in class_targets means the first softmax output distribution’s intended prediction was the one at the 0th index of `[ 0.7 , 0.1 , 0.2 ]` ; the model has a 0.7 confidence score that this observation is a dog.\n",
        "\n",
        "- This continues throughout the batch, where the intended target of the 2nd softmax distribution, `[ 0.1 , 0.5 , 0.4 ]` , was at an index of 1; the model only has a 0.5 confidence score that this is a cat — the model is less certain about this observation. \n",
        "\n",
        "- In the last sample, it’s also the 2nd index from the softmax distribution, a value of 0.9 in this case — a pretty high confidence.\n",
        "\n",
        "With a collection of softmax outputs and their intended targets, we can map these indices to retrieve the values from the softmax distributions:"
      ]
    },
    {
      "cell_type": "code",
      "metadata": {
        "id": "1KTKOxEL80e8",
        "colab": {
          "base_uri": "https://localhost:8080/"
        },
        "outputId": "360b6a6f-a1f3-48e8-fc14-c4c1ea8baef6"
      },
      "source": [
        "for target_index, distribution in zip(class_targets, softmax_outputs):\n",
        "  print(distribution[target_index])"
      ],
      "execution_count": 11,
      "outputs": [
        {
          "output_type": "stream",
          "name": "stdout",
          "text": [
            "0.7\n",
            "0.5\n",
            "0.9\n"
          ]
        }
      ]
    },
    {
      "cell_type": "markdown",
      "metadata": {
        "id": "FgrarSw3-XBa"
      },
      "source": [
        "This can be further simplified using NumPy (we’re creating a NumPy array of the Softmax outputs this time):"
      ]
    },
    {
      "cell_type": "code",
      "metadata": {
        "id": "LUdEp7-m-ZXM",
        "colab": {
          "base_uri": "https://localhost:8080/"
        },
        "outputId": "b615f73f-3274-4bf9-f33a-9c75d60b39cb"
      },
      "source": [
        "# Probabilities for 3 samples\n",
        "softmax_outputs = np.array([\n",
        "  [ 0.7 , 0.1 , 0.2 ],\n",
        "  [ 0.1 , 0.5 , 0.4 ],\n",
        "  [ 0.02 , 0.9 , 0.08 ]\n",
        "])\n",
        "\n",
        "class_targets = [0, 1, 1] # dog, cat, cat\n",
        "\n",
        "print(softmax_outputs[[0, 1, 2], class_targets])"
      ],
      "execution_count": 12,
      "outputs": [
        {
          "output_type": "stream",
          "name": "stdout",
          "text": [
            "[0.7 0.5 0.9]\n"
          ]
        }
      ]
    },
    {
      "cell_type": "markdown",
      "metadata": {
        "id": "4gk63C7t_juR"
      },
      "source": [
        "What are the 0, 1, and 2 values? NumPy lets us index an array in multiple ways. One of them is to use a list filled with indices and that’s convenient for us — we could use the class_targets for this purpose as it already contains the list of indices that we are interested in. The problem is that\n",
        "this has to filter data rows in the array — the second dimension.\n",
        "\n",
        "To perform that, we also need to\n",
        "explicitly filter this array in its first dimension. This dimension contains the predictions and we, of\n",
        "course, want to retain them all. We can achieve that by using a list containing numbers from 0\n",
        "through all of the indices. We know we’re going to have as many indices as distributions in our\n",
        "entire batch, so we can use a `range ()` instead of typing each value ourselves:"
      ]
    },
    {
      "cell_type": "code",
      "metadata": {
        "id": "bZfh6_Wf_r6I",
        "colab": {
          "base_uri": "https://localhost:8080/"
        },
        "outputId": "0729d1ab-b6e2-488b-f6eb-4f3b388afbac"
      },
      "source": [
        "print(softmax_outputs[range(len(softmax_outputs)), class_targets])"
      ],
      "execution_count": 13,
      "outputs": [
        {
          "output_type": "stream",
          "name": "stdout",
          "text": [
            "[0.7 0.5 0.9]\n"
          ]
        }
      ]
    },
    {
      "cell_type": "markdown",
      "metadata": {
        "id": "YULZfdCpABGU"
      },
      "source": [
        "This returns a list of the confidences at the target indices for each of the samples. Now we apply the negative log to this list:"
      ]
    },
    {
      "cell_type": "code",
      "metadata": {
        "id": "hgSfzjEPACUh",
        "colab": {
          "base_uri": "https://localhost:8080/"
        },
        "outputId": "afde4677-d5f6-42c2-dd20-d0195f7014ae"
      },
      "source": [
        "print(-np.log(softmax_outputs[range(len(softmax_outputs)), class_targets]))"
      ],
      "execution_count": 14,
      "outputs": [
        {
          "output_type": "stream",
          "name": "stdout",
          "text": [
            "[0.35667494 0.69314718 0.10536052]\n"
          ]
        }
      ]
    },
    {
      "cell_type": "markdown",
      "metadata": {
        "id": "pgHaSck2AV8X"
      },
      "source": [
        "Finally, we want an average loss per batch to have an idea about how our model is doing during training. There are many ways to calculate an average in Python; the most basic form of an average is the `arithmetic mean : sum(iterable) / len(iterable)`. NumPy has a method that computes this average on arrays, so we will use that instead."
      ]
    },
    {
      "cell_type": "code",
      "metadata": {
        "id": "wSRpewU8AcIb",
        "colab": {
          "base_uri": "https://localhost:8080/"
        },
        "outputId": "5823c1de-3f23-447b-f195-da518075b8c2"
      },
      "source": [
        "neg_log = -np.log(softmax_outputs[range(len(softmax_outputs)), class_targets])\n",
        "average_loss = np.mean(neg_log)\n",
        "\n",
        "print(average_loss)"
      ],
      "execution_count": 15,
      "outputs": [
        {
          "output_type": "stream",
          "name": "stdout",
          "text": [
            "0.38506088005216804\n"
          ]
        }
      ]
    },
    {
      "cell_type": "markdown",
      "metadata": {
        "id": "ztx0_OzVBfuS"
      },
      "source": [
        "We have already learned that targets can be one-hot encoded, where all values, except for one, are zeros, and the correct label’s position is filled with 1.Since we implemented this to work with sparse labels (as in our training data), we have to add a check if they are one-hot encoded and handle it a bit differently in this new case. The check can be performed by counting the dimensions — if targets are single-dimensional (like a list), they are\n",
        "sparse, but if there are 2 dimensions (like a list of lists), then there is a set of one-hot encoded vectors.\n",
        "\n",
        "In this second case, instead of filtering out the confidences at the target labels. We have to multiply confidences by the targets, zeroing out all values except the ones at correct labels, performing a sum along the row axis (axis 1).\n",
        "\n",
        "We have to add a test to the code we just wrote for the number of dimensions,\n",
        "move calculations of the log values outside of this new if statement, and implement the solution for the one-hot encoded labels following the first equation:"
      ]
    },
    {
      "cell_type": "code",
      "metadata": {
        "id": "H9xCrzSFB5Vw",
        "colab": {
          "base_uri": "https://localhost:8080/"
        },
        "outputId": "c4473d81-4359-46ba-fb0d-c92b5b89d3b5"
      },
      "source": [
        "# Probabilities for 3 samples\n",
        "softmax_outputs = np.array([\n",
        "  [ 0.7 , 0.1 , 0.2 ],\n",
        "  [ 0.1 , 0.5 , 0.4 ],\n",
        "  [ 0.02 , 0.9 , 0.08 ]\n",
        "])\n",
        "\n",
        "class_targets = np.array([\n",
        "  [1, 0, 0],\n",
        "  [0, 1, 0],\n",
        "  [0, 1, 0]\n",
        "])\n",
        "\n",
        "# Probabilities for target values - only if categorical labels\n",
        "if len(class_targets.shape) == 1:\n",
        "  correct_confidences = softmax_outputs[range(len(softmax_outputs)), class_targets]\n",
        "elif len(class_targets.shape) == 2:  # Mask values - only for one-hot encoded labels\n",
        "  correct_confidences = np.sum(softmax_outputs * class_targets, axis=1)\n",
        "\n",
        "# Losses\n",
        "neg_log = - np.log(correct_confidences)\n",
        "average_loss = np.mean(neg_log)\n",
        "\n",
        "print(average_loss)"
      ],
      "execution_count": 16,
      "outputs": [
        {
          "output_type": "stream",
          "name": "stdout",
          "text": [
            "0.38506088005216804\n"
          ]
        }
      ]
    },
    {
      "cell_type": "markdown",
      "metadata": {
        "id": "nW1VoBJMEbdf"
      },
      "source": [
        "Before we move on, there is one additional problem to solve. The softmax output, which is also an input to this loss function, consists of numbers in the range from 0 to 1 - a list of confidences.\n",
        "It is possible that the model will have full confidence for one label making all the remaining confidences zero. Similarly, it is also possible that the model will assign full confidence to a value that wasn’t the target.\n",
        "\n",
        "If we then try to calculate the loss of this confidence of 0:"
      ]
    },
    {
      "cell_type": "code",
      "metadata": {
        "id": "tSDpFBrQEgdW",
        "colab": {
          "base_uri": "https://localhost:8080/"
        },
        "outputId": "57b40fb9-c94a-4431-80bb-2b18437e9b7a"
      },
      "source": [
        "-np.log(0)"
      ],
      "execution_count": 17,
      "outputs": [
        {
          "output_type": "stream",
          "name": "stderr",
          "text": [
            "/usr/local/lib/python3.7/dist-packages/ipykernel_launcher.py:1: RuntimeWarning: divide by zero encountered in log\n",
            "  \"\"\"Entry point for launching an IPython kernel.\n"
          ]
        },
        {
          "output_type": "execute_result",
          "data": {
            "text/plain": [
              "inf"
            ]
          },
          "metadata": {},
          "execution_count": 17
        }
      ]
    },
    {
      "cell_type": "markdown",
      "metadata": {
        "id": "HuJK29STfaza"
      },
      "source": [
        "From the mathematical point of view, $log(0)$ is undefined. We already know the following dependence: if $y=log(x)$ , then $e^y =x$. The question of\n",
        "what the resulting $y$ is in $y=log(0)$ is the same as the question of what’s the $y$ in $e^y =0$.\n",
        "\n",
        "The negative natural logarithm of 0 , in Python with NumPy, equals an infinitely big number, rather than undefined, and prints a warning\n",
        "about a division by 0."
      ]
    },
    {
      "cell_type": "code",
      "metadata": {
        "id": "qp4IJXchhQSm",
        "outputId": "50e478f2-17bd-445e-957e-4d90ea1c96af",
        "colab": {
          "base_uri": "https://localhost:8080/"
        }
      },
      "source": [
        "np.e ** (-np.inf)"
      ],
      "execution_count": 18,
      "outputs": [
        {
          "output_type": "execute_result",
          "data": {
            "text/plain": [
              "0.0"
            ]
          },
          "metadata": {},
          "execution_count": 18
        }
      ]
    },
    {
      "cell_type": "markdown",
      "metadata": {
        "id": "ekUEraKOhkhE"
      },
      "source": [
        "When calculating a derivative of the absolute value function, which\n",
        "does not exist for an input of 0 and we’ll have to make some decisions to work around this.\n",
        "\n",
        "With optimization, we will also have a problem calculating gradients, starting with a mean value of all sample-wise losses since a single infinite value in a list will cause the average of that list to also be infinite:"
      ]
    },
    {
      "cell_type": "code",
      "metadata": {
        "id": "0QYELXV8hy5U",
        "outputId": "4e8b4657-7f62-4563-d7e9-a4fbdb4fcc64",
        "colab": {
          "base_uri": "https://localhost:8080/"
        }
      },
      "source": [
        "np.mean([1, 2, 3, -np.log(0)])"
      ],
      "execution_count": 19,
      "outputs": [
        {
          "output_type": "stream",
          "name": "stderr",
          "text": [
            "/usr/local/lib/python3.7/dist-packages/ipykernel_launcher.py:1: RuntimeWarning: divide by zero encountered in log\n",
            "  \"\"\"Entry point for launching an IPython kernel.\n"
          ]
        },
        {
          "output_type": "execute_result",
          "data": {
            "text/plain": [
              "inf"
            ]
          },
          "metadata": {},
          "execution_count": 19
        }
      ]
    },
    {
      "cell_type": "markdown",
      "metadata": {
        "id": "nJfdXE66i8gB"
      },
      "source": [
        "We could add a very small value to the confidence to prevent it from being a zero."
      ]
    },
    {
      "cell_type": "code",
      "metadata": {
        "id": "0ErSoNsHi9Nk",
        "outputId": "4f43937a-7085-4864-fe6e-c963e3d870d3",
        "colab": {
          "base_uri": "https://localhost:8080/"
        }
      },
      "source": [
        "-np.log(1e-7)"
      ],
      "execution_count": 20,
      "outputs": [
        {
          "output_type": "execute_result",
          "data": {
            "text/plain": [
              "16.11809565095832"
            ]
          },
          "metadata": {},
          "execution_count": 20
        }
      ]
    },
    {
      "cell_type": "markdown",
      "metadata": {
        "id": "igB1bytOjYpj"
      },
      "source": [
        "Adding a very small value, one-tenth of a million, to the confidence at its far edge will insignificantly impact the result, but this method yields an additional 2 issues. \n",
        "\n",
        "First, in the case where the confidence value is 1:"
      ]
    },
    {
      "cell_type": "code",
      "metadata": {
        "id": "0bSD7aBKjcn5",
        "outputId": "e6bf5027-d1a1-4fc5-e42f-add2a554ff33",
        "colab": {
          "base_uri": "https://localhost:8080/"
        }
      },
      "source": [
        "-np.log(1 + 1e-7)"
      ],
      "execution_count": 22,
      "outputs": [
        {
          "output_type": "execute_result",
          "data": {
            "text/plain": [
              "-9.999999505838704e-08"
            ]
          },
          "metadata": {},
          "execution_count": 22
        }
      ]
    },
    {
      "cell_type": "markdown",
      "metadata": {
        "id": "Msjw2eUrj087"
      },
      "source": [
        "When the model is fully correct in a prediction and puts all the confidence in the correct label, loss becomes a negative value instead of being 0.\n",
        "\n",
        "The other problem here is shifting confidence towards 1 , even if by a very small value. To prevent both issues, it’s better to clip values from\n",
        "both sides by the same number, `1e-7` in our case. \n",
        "\n",
        "That means that the lowest possible value will become `1e-7` (like in the demonstration we just performed) but the highest possible value, instead\n",
        "of being `1+1e-7`, will become `1-1e-7` (so slightly less than 1 ):"
      ]
    },
    {
      "cell_type": "code",
      "metadata": {
        "id": "Go8B5tIMksEn",
        "outputId": "b453f7c4-0b98-460e-d490-5f9bf1aa1734",
        "colab": {
          "base_uri": "https://localhost:8080/"
        }
      },
      "source": [
        "-np.log(1 - 1e-7)"
      ],
      "execution_count": 23,
      "outputs": [
        {
          "output_type": "execute_result",
          "data": {
            "text/plain": [
              "1.0000000494736474e-07"
            ]
          },
          "metadata": {},
          "execution_count": 23
        }
      ]
    },
    {
      "cell_type": "markdown",
      "metadata": {
        "id": "rY-3DxmRk2-_"
      },
      "source": [
        "This will prevent loss from being exactly 0 , making it a very small value instead, but won’t make it a negative value and won’t bias overall loss towards 1 . \n",
        "\n",
        "Within our code and using numpy, we’ll accomplish that using `np.clip()` method:"
      ]
    },
    {
      "cell_type": "code",
      "metadata": {
        "id": "Jz4pp8L4k7Wb",
        "outputId": "6d99a630-a3c8-40a3-8eb5-910b902b7096",
        "colab": {
          "base_uri": "https://localhost:8080/"
        }
      },
      "source": [
        "y_pred = softmax_outputs\n",
        "y_pred_clipped = np.clip(y_pred, 1e-7, 1 - 1e-7)\n",
        "y_pred_clipped"
      ],
      "execution_count": 26,
      "outputs": [
        {
          "output_type": "execute_result",
          "data": {
            "text/plain": [
              "array([[0.7 , 0.1 , 0.2 ],\n",
              "       [0.1 , 0.5 , 0.4 ],\n",
              "       [0.02, 0.9 , 0.08]])"
            ]
          },
          "metadata": {},
          "execution_count": 26
        }
      ]
    },
    {
      "cell_type": "markdown",
      "metadata": {
        "id": "_WMdqi0xlma6"
      },
      "source": [
        "This method can perform clipping on an array of values, so we can apply it to the predictions directly and save this as a separate array, which we’ll use shortly."
      ]
    },
    {
      "cell_type": "markdown",
      "metadata": {
        "id": "zT5uPhR0l_FV"
      },
      "source": [
        "## Categorical Cross-Entropy Loss Class"
      ]
    },
    {
      "cell_type": "markdown",
      "metadata": {
        "id": "w2RGv_MQmCK-"
      },
      "source": [
        ""
      ]
    }
  ]
}