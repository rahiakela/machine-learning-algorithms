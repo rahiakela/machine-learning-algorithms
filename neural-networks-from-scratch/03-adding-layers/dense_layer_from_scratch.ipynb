{
  "nbformat": 4,
  "nbformat_minor": 0,
  "metadata": {
    "colab": {
      "name": "dense-layer-from-scratch.ipynb",
      "provenance": [],
      "toc_visible": true,
      "authorship_tag": "ABX9TyPbJj0LYWRSjcBG0tVWvmIx",
      "include_colab_link": true
    },
    "kernelspec": {
      "name": "python3",
      "display_name": "Python 3"
    },
    "language_info": {
      "name": "python"
    }
  },
  "cells": [
    {
      "cell_type": "markdown",
      "metadata": {
        "id": "view-in-github",
        "colab_type": "text"
      },
      "source": [
        "<a href=\"https://colab.research.google.com/github/rahiakela/machine-learning-algorithms/blob/main/neural-networks-from-scratch/03-adding-layers/dense_layer_from_scratch.ipynb\" target=\"_parent\"><img src=\"https://colab.research.google.com/assets/colab-badge.svg\" alt=\"Open In Colab\"/></a>"
      ]
    },
    {
      "cell_type": "markdown",
      "metadata": {
        "id": "rTqbdiFikqtp"
      },
      "source": [
        "##Dense Layer from Scratch"
      ]
    },
    {
      "cell_type": "markdown",
      "metadata": {
        "id": "GfxGxrfrk2lV"
      },
      "source": [
        ""
      ]
    }
  ]
}