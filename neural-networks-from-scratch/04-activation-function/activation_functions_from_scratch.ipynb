{
  "nbformat": 4,
  "nbformat_minor": 0,
  "metadata": {
    "colab": {
      "name": "relu-activation-function-from-scratch.ipynb",
      "provenance": [],
      "toc_visible": true,
      "authorship_tag": "ABX9TyPNtgFxocr5J0xXRPkLqjuP",
      "include_colab_link": true
    },
    "kernelspec": {
      "name": "python3",
      "display_name": "Python 3"
    },
    "language_info": {
      "name": "python"
    }
  },
  "cells": [
    {
      "cell_type": "markdown",
      "metadata": {
        "id": "view-in-github",
        "colab_type": "text"
      },
      "source": [
        "<a href=\"https://colab.research.google.com/github/rahiakela/machine-learning-algorithms/blob/main/neural-networks-from-scratch/04-activation-function/activation_functions_from_scratch.ipynb\" target=\"_parent\"><img src=\"https://colab.research.google.com/assets/colab-badge.svg\" alt=\"Open In Colab\"/></a>"
      ]
    },
    {
      "cell_type": "markdown",
      "metadata": {
        "id": "PVN7MSLMJtcs"
      },
      "source": [
        "## ReLU Activation Function from Scratch"
      ]
    },
    {
      "cell_type": "markdown",
      "metadata": {
        "id": "sOw70_GPK0Ct"
      },
      "source": [
        "The rectified linear activation function is simpler than the sigmoid. It’s quite literally $y=x$ , clipped at $\\theta$ from the negative side. If $x$ is less than or equal to $\\theta$ , then $y$ is $\\theta$ — otherwise, $y$ is equal to $x$.\n",
        "\n",
        "$$\n",
        "y = {\\displaystyle \\textstyle {\\begin{cases} x, \\space \\space  x > 0 \\\\ 0, \\space \\space x < 0 \\end{cases}}}\n",
        "$$\n",
        "\n",
        "<img src='https://github.com/rahiakela/machine-learning-algorithms/blob/main/neural-networks-from-scratch/04-activation-function/images/1.png?raw=1' width='600'/>\n",
        "\n",
        "This simple yet powerful activation function is the most widely used activation function at the time of writing for various reasons — mainly speed and efficiency.\n",
        "\n",
        "The ReLU activation function is extremely close to being a linear activation\n",
        "function while remaining nonlinear, due to that bend after 0. This simple property is, however, very effective.\n",
        "\n",
        "\n"
      ]
    },
    {
      "cell_type": "markdown",
      "metadata": {
        "id": "94fNuHPzUHgC"
      },
      "source": [
        "##Setup"
      ]
    },
    {
      "cell_type": "code",
      "metadata": {
        "id": "1RkbCKevUTHd",
        "outputId": "cb26130d-bde6-494a-a98f-07070cf22473",
        "colab": {
          "base_uri": "https://localhost:8080/"
        }
      },
      "source": [
        "!pip install nnfs"
      ],
      "execution_count": 1,
      "outputs": [
        {
          "output_type": "stream",
          "text": [
            "Collecting nnfs\n",
            "  Downloading nnfs-0.5.1-py3-none-any.whl (9.1 kB)\n",
            "Requirement already satisfied: numpy in /usr/local/lib/python3.7/dist-packages (from nnfs) (1.19.5)\n",
            "Installing collected packages: nnfs\n",
            "Successfully installed nnfs-0.5.1\n"
          ],
          "name": "stdout"
        }
      ]
    },
    {
      "cell_type": "code",
      "metadata": {
        "id": "6Zyu2BvrUIfx"
      },
      "source": [
        "from nnfs.datasets import spiral_data\n",
        "import numpy as np\n",
        "import nnfs\n",
        "import matplotlib.pyplot as plt\n",
        "\n",
        "nnfs.init()"
      ],
      "execution_count": 2,
      "outputs": []
    },
    {
      "cell_type": "markdown",
      "metadata": {
        "id": "2sQ-JkNxO6mB"
      },
      "source": [
        "## ReLU Activation "
      ]
    },
    {
      "cell_type": "markdown",
      "metadata": {
        "id": "Ja2wyHCSO_MH"
      },
      "source": [
        "Despite the fancy sounding name, the rectified linear activation function is straightforward to code. Most closely to its definition:"
      ]
    },
    {
      "cell_type": "code",
      "metadata": {
        "id": "IYgWiNgVPH6-",
        "colab": {
          "base_uri": "https://localhost:8080/"
        },
        "outputId": "1a2bea21-b23e-4811-a122-b8431c1c114c"
      },
      "source": [
        "inputs = [0, 2, -1, 3.3, -2.7, 1.1, 2.2, -100]\n",
        "\n",
        "output = []\n",
        "\n",
        "for i in inputs:\n",
        "  if i > 0:     # if the current value is greater than 0, appending the current value\n",
        "    output.append(i)\n",
        "  else:         # if it’s not, appending 0\n",
        "    output.append(0)\n",
        "\n",
        "print(output)"
      ],
      "execution_count": 3,
      "outputs": [
        {
          "output_type": "stream",
          "text": [
            "[0, 2, 0, 3.3, 0, 1.1, 2.2, 0]\n"
          ],
          "name": "stdout"
        }
      ]
    },
    {
      "cell_type": "markdown",
      "metadata": {
        "id": "RxXAA0LmQs-Y"
      },
      "source": [
        "This can be written more simply, as we just need to take the largest of two values: 0 or neuron value. \n",
        "\n",
        "For example:"
      ]
    },
    {
      "cell_type": "code",
      "metadata": {
        "id": "5LkxmcD7QvHs",
        "colab": {
          "base_uri": "https://localhost:8080/"
        },
        "outputId": "02973aeb-9af1-4138-a21b-bde26d181f86"
      },
      "source": [
        "inputs = [0, 2, -1, 3.3, -2.7, 1.1, 2.2, -100]\n",
        "\n",
        "output = []\n",
        "\n",
        "for i in inputs:\n",
        "    output.append(max(0, i))\n",
        "\n",
        "print(output)"
      ],
      "execution_count": 4,
      "outputs": [
        {
          "output_type": "stream",
          "text": [
            "[0, 2, 0, 3.3, 0, 1.1, 2.2, 0]\n"
          ],
          "name": "stdout"
        }
      ]
    },
    {
      "cell_type": "markdown",
      "metadata": {
        "id": "XzIcdbwkRHTO"
      },
      "source": [
        "NumPy contains an equivalent — `np.maximum()`:"
      ]
    },
    {
      "cell_type": "code",
      "metadata": {
        "id": "GoQxoq5mRGom",
        "colab": {
          "base_uri": "https://localhost:8080/"
        },
        "outputId": "65e9b250-3f34-417e-b23e-95da546428bd"
      },
      "source": [
        "inputs = [0, 2, -1, 3.3, -2.7, 1.1, 2.2, -100]\n",
        "\n",
        "output = np.maximum(0, inputs)\n",
        "\n",
        "print(output)"
      ],
      "execution_count": 5,
      "outputs": [
        {
          "output_type": "stream",
          "text": [
            "[0.  2.  0.  3.3 0.  1.1 2.2 0. ]\n"
          ],
          "name": "stdout"
        }
      ]
    },
    {
      "cell_type": "markdown",
      "metadata": {
        "id": "FKHq89P3SvWW"
      },
      "source": [
        "This method compares each element of the input list (or an array) and returns an object of the same shape filled with new values. \n",
        "\n",
        "We will use it in our new rectified linear activation class:"
      ]
    },
    {
      "cell_type": "code",
      "metadata": {
        "id": "QHHxwxrlSm-A"
      },
      "source": [
        "# ReLU activation class\n",
        "class ReLU:\n",
        "  # Forward pass\n",
        "  def forward(self, inputs):\n",
        "    # Calculate output values from input\n",
        "    self.output = np.maximum(0, inputs)\n",
        "\n",
        "    return self.output"
      ],
      "execution_count": 6,
      "outputs": []
    },
    {
      "cell_type": "code",
      "metadata": {
        "id": "uEOJYfDETSDY",
        "colab": {
          "base_uri": "https://localhost:8080/"
        },
        "outputId": "bbf35abd-3082-48bf-c726-6d6134bfce19"
      },
      "source": [
        "relu = ReLU()\n",
        "print(relu.forward(inputs))"
      ],
      "execution_count": 7,
      "outputs": [
        {
          "output_type": "stream",
          "text": [
            "[0.  2.  0.  3.3 0.  1.1 2.2 0. ]\n"
          ],
          "name": "stdout"
        }
      ]
    },
    {
      "cell_type": "markdown",
      "metadata": {
        "id": "-VM6YmV4T7e8"
      },
      "source": [
        "Let’s apply this activation function to the dense layer’s outputs."
      ]
    },
    {
      "cell_type": "code",
      "metadata": {
        "id": "f5EzXLztVFgq"
      },
      "source": [
        "class Dense:\n",
        "\n",
        "  def __init__(self, n_inputs, n_neurons):\n",
        "    \"\"\"Layer initialization: Initialize weights and biases\"\"\"\n",
        "    # Note that we’re initializing weights to be (inputs, neurons), rather than ( neurons, inputs)\n",
        "    self.weights = 0.01 * np.random.randn(n_inputs, n_neurons)\n",
        "    # a bias can ensure that a neuron fires initially. so initializing it with zero\n",
        "    self.biases = np.zeros((1, n_neurons))\n",
        "\n",
        "  def forward(self, inputs):\n",
        "    # Calculate output values from inputs, weights and biases\n",
        "    self.output = np.dot(inputs, self.weights) + self.biases\n",
        "\n",
        "# ReLU activation class\n",
        "class ReLU:\n",
        "  # Forward pass\n",
        "  def forward(self, inputs):\n",
        "    # Calculate output values from input\n",
        "    self.output = np.maximum(0, inputs)"
      ],
      "execution_count": 8,
      "outputs": []
    },
    {
      "cell_type": "code",
      "metadata": {
        "id": "g-zA_dBbTtIG",
        "colab": {
          "base_uri": "https://localhost:8080/"
        },
        "outputId": "0b834d41-d9e3-46fa-f51e-290029571a86"
      },
      "source": [
        "# Create dataset\n",
        "X, y = spiral_data(samples=100, classes=3)\n",
        "\n",
        "# Create Dense layer with 2 input features and 3 output values\n",
        "dense1 = Dense(2, 3)\n",
        "\n",
        "# Create ReLU activation (to be used with Dense layer)\n",
        "relu = ReLU()\n",
        "\n",
        "# Make a forward pass of our training data through this layer\n",
        "dense1.forward(X)\n",
        "\n",
        "# Forward pass through activation func.\n",
        "# Takes in output from previous layer\n",
        "relu.forward(dense1.output)\n",
        "\n",
        "# Let's see output of the first few samples\n",
        "print(f\"Before ReLU:\\n {dense1.output[:5]}\")\n",
        "print(f\"After ReLU:\\n {relu.output[:5]}\")"
      ],
      "execution_count": 9,
      "outputs": [
        {
          "output_type": "stream",
          "text": [
            "Before ReLU:\n",
            " [[ 0.0000000e+00  0.0000000e+00  0.0000000e+00]\n",
            " [-1.0475188e-04  1.1395361e-04 -4.7983500e-05]\n",
            " [-2.7414842e-04  3.1729150e-04 -8.6921798e-05]\n",
            " [-4.2188365e-04  5.2666257e-04 -5.5912682e-05]\n",
            " [-5.7707680e-04  7.1401405e-04 -8.9430439e-05]]\n",
            "After ReLU:\n",
            " [[0.         0.         0.        ]\n",
            " [0.         0.00011395 0.        ]\n",
            " [0.         0.00031729 0.        ]\n",
            " [0.         0.00052666 0.        ]\n",
            " [0.         0.00071401 0.        ]]\n"
          ],
          "name": "stdout"
        }
      ]
    },
    {
      "cell_type": "markdown",
      "metadata": {
        "id": "-c5CVCrQX4Pu"
      },
      "source": [
        "As you can see, negative values have been clipped (modified to be zero). That’s all there is to the rectified linear activation function used in the hidden layer. "
      ]
    },
    {
      "cell_type": "markdown",
      "metadata": {
        "id": "kkt9ugvwX7OZ"
      },
      "source": [
        "##Softmax Activation"
      ]
    },
    {
      "cell_type": "markdown",
      "metadata": {
        "id": "tH5bwLGFg5pN"
      },
      "source": [
        "In our case, we’re looking to get this model to be a classifier, so we want an activation function meant for classification.\n",
        "\n",
        "In this case, the rectified linear unit is unbounded, not normalized with other units, and exclusive. \n",
        "- **Not normalized** implies the values can be anything, an output of [12, 99, 318] is without context\n",
        "- **exclusive** means each output is independent of the others\n",
        "\n",
        "To address this lack of context, the softmax activation on the output data can take in non-normalized, or uncalibrated, inputs and produce a normalized distribution of probabilities for our classes.\n",
        "\n",
        "In the case of classification, what we want to see is a prediction of which class the network “thinks” the input represents. \n",
        "\n",
        "This distribution returned by the softmax activation function represents confidence scores for each class and will add up to 1.\n",
        "\n",
        "For example, if our network has a confidence distribution for two classes: \n",
        "`[0.45, 0.55]`, the prediction is the 2nd class, but the confidence in this\n",
        "prediction isn’t very high. Maybe our program would not act in this case since it’s not very confident.\n",
        "\n",
        "Here’s the function for the Softmax :\n",
        "\n",
        "$$\n",
        "S_{i,j} = \\frac{e^{z_{i,j}}}{\\sum_{l=1}^L e^{z_{i,j}}}\n",
        "$$\n",
        "\n",
        "The first step for us is to “exponentiate” the outputs. We do this with Euler’s number, $e$, which is roughly `2.71828182846` and referred to as the “exponential growth” number.\n",
        "\n",
        "Both the numerator and the denominator of the Softmax function contain $e$ raised to the power of $z$ , where $z$ , given indices, means a singular output value — the index $i$ means the current sample and the index $j$ means the current output in this sample. \n",
        "\n",
        "The numerator exponentiates the current output value and the denominator takes a sum of all of the exponentiated outputs for a given sample."
      ]
    },
    {
      "cell_type": "code",
      "metadata": {
        "id": "IXo40PH9TxER",
        "colab": {
          "base_uri": "https://localhost:8080/"
        },
        "outputId": "d6a2f22d-cb0f-4428-90d1-0b020eeef882"
      },
      "source": [
        "# Values from the previous output when we described what a neural network is\n",
        "layer_outputs = [4.8, 1.21, 2.385]\n",
        "\n",
        "# e - mathematical constant, we use E here to match a common coding style where constants are uppercased\n",
        "E = 2.71828182846  # you can also use math.e\n",
        "\n",
        "# For each value in a vector, calculate the exponential value\n",
        "exp_values = []\n",
        "for output in layer_outputs:\n",
        "  exp_values.append(E ** output)  # ** - power operator in Python\n",
        "\n",
        "print(\"exponentiated values:\")\n",
        "print(exp_values)"
      ],
      "execution_count": 10,
      "outputs": [
        {
          "output_type": "stream",
          "text": [
            "exponentiated values:\n",
            "[121.51041751893969, 3.3534846525504487, 10.85906266492961]\n"
          ],
          "name": "stdout"
        }
      ]
    },
    {
      "cell_type": "markdown",
      "metadata": {
        "id": "LmZMC7pNl1zt"
      },
      "source": [
        "To calculate the probabilities, we need non-negative values. Imagine the output as `[ 4.8 , 1.21 , - 2.385 ]` — even after normalization, the last\n",
        "value will still be negative since we’ll just divide all of them by their sum.\n",
        "\n",
        "A negative probability (or confidence) does not make much sense. An exponential value of any number is always non-negative — it returns 0 for negative infinity, 1 for the input of 0, and increases for positive values:\n",
        "\n",
        "<img src='https://github.com/rahiakela/machine-learning-algorithms/blob/main/neural-networks-from-scratch/04-activation-function/images/2.png?raw=1' width='600'/>\n",
        "\n",
        "The exponential function is a monotonic function. This means that, with higher input values, outputs are also higher, so we won’t change the predicted class after applying it while making sure that we get non-negative values. It also adds stability to the result as the normalized exponentiation is more about the difference between numbers than their magnitudes.\n",
        "\n",
        "Once we’ve exponentiated, we want to convert these numbers to a probability distribution (converting the values into the vector of confidences, one for each class, which add up to 1 for everything in the vector). What that means is that we’re about to perform a normalization where we take a given\n",
        "value and divide it by the sum of all of the values.\n",
        "\n",
        "Since each output value normalizes to a fraction of the sum, all of the values are now in the range of 0 to 1 and add up to 1 — they share the probability of 1 between themselves.\n",
        "\n",
        "Let’s add the sum and normalization to the Softmax."
      ]
    },
    {
      "cell_type": "code",
      "metadata": {
        "id": "nEgwXY_cnmjv",
        "colab": {
          "base_uri": "https://localhost:8080/"
        },
        "outputId": "a977d7e3-1d61-478c-caaa-c16af1b6e6e5"
      },
      "source": [
        "# Values from the previous output when we described what a neural network is\n",
        "layer_outputs = [4.8, 1.21, 2.385]\n",
        "\n",
        "# e - mathematical constant, we use E here to match a common coding style where constants are uppercased\n",
        "E = 2.71828182846  # you can also use math.e\n",
        "\n",
        "# For each value in a vector, calculate the exponential value\n",
        "exp_values = []\n",
        "for output in layer_outputs:\n",
        "  exp_values.append(E ** output)  # ** - power operator in Python\n",
        "\n",
        "print(\"exponentiated values:\")\n",
        "print(exp_values)\n",
        "\n",
        "# Now normalize values\n",
        "norm_base = sum(exp_values)  # we sum all values\n",
        "norm_values = []\n",
        "for value in exp_values:\n",
        "  norm_values.append(value / norm_base)\n",
        "\n",
        "print(\"Normalized exponentiated values:\")\n",
        "print(norm_values)\n",
        "print(f\"Sum of normalized values:{sum(norm_values)}\")"
      ],
      "execution_count": 11,
      "outputs": [
        {
          "output_type": "stream",
          "text": [
            "exponentiated values:\n",
            "[121.51041751893969, 3.3534846525504487, 10.85906266492961]\n",
            "Normalized exponentiated values:\n",
            "[0.8952826639573506, 0.024708306782070668, 0.08000902926057876]\n",
            "Sum of normalized values:1.0\n"
          ],
          "name": "stdout"
        }
      ]
    },
    {
      "cell_type": "markdown",
      "metadata": {
        "id": "HmbC1g3do0z9"
      },
      "source": [
        "We can perform the same set of operations with the use of NumPy in the following way:"
      ]
    },
    {
      "cell_type": "code",
      "metadata": {
        "id": "LCDqmqFEo1g5",
        "colab": {
          "base_uri": "https://localhost:8080/"
        },
        "outputId": "82c589c1-c1d2-4ec9-8a66-20ecc51aed50"
      },
      "source": [
        "# Values from the previous output when we described what a neural network is\n",
        "layer_outputs = [4.8, 1.21, 2.385]\n",
        "\n",
        "# For each value in a vector, calculate the exponential value\n",
        "exp_values = np.exp(layer_outputs)\n",
        "print(\"exponentiated values:\")\n",
        "print(exp_values)\n",
        "\n",
        "# Now normalize values\n",
        "norm_base = exp_values / np.sum(exp_values)  # we sum all values\n",
        "print(\"Normalized exponentiated values:\")\n",
        "print(norm_values)\n",
        "print(f\"Sum of normalized values:{np.sum(norm_values)}\")"
      ],
      "execution_count": 12,
      "outputs": [
        {
          "output_type": "stream",
          "text": [
            "exponentiated values:\n",
            "[121.51041752   3.35348465  10.85906266]\n",
            "Normalized exponentiated values:\n",
            "[0.8952826639573506, 0.024708306782070668, 0.08000902926057876]\n",
            "Sum of normalized values:1.0\n"
          ],
          "name": "stdout"
        }
      ]
    },
    {
      "cell_type": "markdown",
      "metadata": {
        "id": "NLEvctXZpuoc"
      },
      "source": [
        "Notice the results are similar, but faster to calculate and the code is easier to read with NumPy.\n",
        "\n",
        "We can exponentiate all of the values with a single call of the `np.exp()`, then immediately normalize them with the sum. To train in batches, we need to convert this functionality to accept layer outputs in batches.\n",
        "\n",
        "```python\n",
        "# Get unnormalized probabilities\n",
        "exp_values = np.exp(inputs)\n",
        "\n",
        "# Normalize them for each sample\n",
        "probabilities = exp_values / np.sum(exp_values, axis=1, keepdims=True)\n",
        "```\n",
        "\n",
        "We should also address what axis and keepdims mean in the above. Let’s first discuss the axis . Axis is easier to show than tell, but, in a 2D array/matrix, axis 0 refers to the rows, and axis 1 refers to the columns. \n",
        "\n",
        "Let’s see some examples of how axis affects the sum using NumPy. First, we\n",
        "will just show the default, which is None.\n"
      ]
    },
    {
      "cell_type": "code",
      "metadata": {
        "id": "kDxsjIpGpYg2",
        "outputId": "7e644e0c-a12a-4fa3-ab12-366fe05d2639",
        "colab": {
          "base_uri": "https://localhost:8080/"
        }
      },
      "source": [
        "# Values from the previous output when we described what a neural network is\n",
        "layer_outputs = np.array([\n",
        "  [4.8, 1.21, 2.385],\n",
        "  [8.9 , - 1.81 , 0.2],\n",
        "  [1.41 , 1.051 , 0.026]\n",
        "]) \n",
        "\n",
        "print(\"Sum without axis:\")\n",
        "print(np.sum(layer_outputs))\n",
        "\n",
        "print(\"This will be identical to the above since default is None:\")\n",
        "print(np.sum(layer_outputs, axis=None))"
      ],
      "execution_count": 14,
      "outputs": [
        {
          "output_type": "stream",
          "text": [
            "Sum without axis:\n",
            "18.172\n",
            "This will be identical to the above since default is None:\n",
            "18.172\n"
          ],
          "name": "stdout"
        }
      ]
    },
    {
      "cell_type": "markdown",
      "metadata": {
        "id": "zKw7-x549m4Y"
      },
      "source": [
        "With no axis specified, we are just summing all of the values, even if they’re in varying dimensions.\n",
        "\n",
        "Next, `axis = 0`. This means to sum row-wise, along axis 0.\n",
        "\n",
        "In the case of our 2D array, where we have only a single other dimension, the columns, the output vector will sum these columns. \n",
        "\n",
        "This means we’ll perform 4.8+8.9+1.41 and so on."
      ]
    },
    {
      "cell_type": "code",
      "metadata": {
        "id": "TIqQ6CEP9V-q",
        "outputId": "d8754a61-3f1e-4db8-9bf5-163487afb9cf",
        "colab": {
          "base_uri": "https://localhost:8080/"
        }
      },
      "source": [
        "print(\"Another way to think of it w/ a matrix == axis 0: columns:\")\n",
        "print(np.sum(layer_outputs, axis=0))"
      ],
      "execution_count": 17,
      "outputs": [
        {
          "output_type": "stream",
          "text": [
            "Another way to think of it w/ a matrix == axis 0: columns:\n",
            "[15.11   0.451  2.611]\n"
          ],
          "name": "stdout"
        }
      ]
    },
    {
      "cell_type": "markdown",
      "metadata": {
        "id": "OI2_5PZM-4r8"
      },
      "source": [
        "This isn’t what we want, though. We want sums of the rows."
      ]
    },
    {
      "cell_type": "code",
      "metadata": {
        "id": "eQOOIfPH-TYU",
        "outputId": "aa42de50-c894-457e-afbf-91c687c3c359",
        "colab": {
          "base_uri": "https://localhost:8080/"
        }
      },
      "source": [
        "print(\"But we want to sum the rows instead, like this w/ raw py:\")\n",
        "for i in layer_outputs:\n",
        "  print(sum(i))"
      ],
      "execution_count": 18,
      "outputs": [
        {
          "output_type": "stream",
          "text": [
            "But we want to sum the rows instead, like this w/ raw py:\n",
            "8.395\n",
            "7.29\n",
            "2.4869999999999997\n"
          ],
          "name": "stdout"
        }
      ]
    },
    {
      "cell_type": "markdown",
      "metadata": {
        "id": "8zFVV_vwBn5q"
      },
      "source": [
        "As you probably guessed, we’re going to sum along axis 1:"
      ]
    },
    {
      "cell_type": "code",
      "metadata": {
        "id": "WlkuEXjNBoa7",
        "outputId": "652d6504-b5f1-4426-9f14-0ec51f767ea6",
        "colab": {
          "base_uri": "https://localhost:8080/"
        }
      },
      "source": [
        "print(\"So we can sum axis 1, but note the current shape:\")\n",
        "print(np.sum(layer_outputs, axis=1))"
      ],
      "execution_count": 19,
      "outputs": [
        {
          "output_type": "stream",
          "text": [
            "So we can sum axis 1, but note the current shape:\n",
            "[8.395 7.29  2.487]\n"
          ],
          "name": "stdout"
        }
      ]
    },
    {
      "cell_type": "markdown",
      "metadata": {
        "id": "RUpST142CbYT"
      },
      "source": [
        "As pointed out by “ note the current shape ,” we did get the sums that we expected, but actually, we want to simplify the outputs to a single value per sample. We’re trying to sum all the outputs from a layer for each sample in a batch; converting the layer’s output array with row length equal to the number of neurons in the layer, to just one value. \n",
        "\n",
        "We need a column vector with these values since it will let us normalize the whole batch of samples, sample-wise, with a single calculation."
      ]
    },
    {
      "cell_type": "code",
      "metadata": {
        "id": "aKQgd9cDCiKs",
        "outputId": "d154ad7a-a6cf-4e3b-e0e2-cd78e4e02b45",
        "colab": {
          "base_uri": "https://localhost:8080/"
        }
      },
      "source": [
        "layer_outputs.shape"
      ],
      "execution_count": 20,
      "outputs": [
        {
          "output_type": "execute_result",
          "data": {
            "text/plain": [
              "(3, 3)"
            ]
          },
          "metadata": {},
          "execution_count": 20
        }
      ]
    },
    {
      "cell_type": "code",
      "metadata": {
        "id": "ia_jpziSCo_z",
        "outputId": "751fec75-89e8-45bc-bdb6-e3eeb23f041f",
        "colab": {
          "base_uri": "https://localhost:8080/"
        }
      },
      "source": [
        "print(\"Sum axis 1, but keep the same dimensions as input:\")\n",
        "print(layer_outputs)\n",
        "print(np.sum(layer_outputs, axis=1, keepdims=True))"
      ],
      "execution_count": 23,
      "outputs": [
        {
          "output_type": "stream",
          "text": [
            "Sum axis 1, but keep the same dimensions as input:\n",
            "[[ 4.8    1.21   2.385]\n",
            " [ 8.9   -1.81   0.2  ]\n",
            " [ 1.41   1.051  0.026]]\n",
            "[[8.395]\n",
            " [7.29 ]\n",
            " [2.487]]\n"
          ],
          "name": "stdout"
        }
      ]
    },
    {
      "cell_type": "markdown",
      "metadata": {
        "id": "Sm6j5K3mDpXJ"
      },
      "source": [
        "Now, if we divide the array containing a batch of the outputs with this array, NumPy will perform this sample-wise. That means that it’ll divide all of the values from each output row by the corresponding row from the sum array. Since\n",
        "this sum in each row is a single value, it’ll be used for the division with every value from the corresponding output row). \n",
        "\n",
        "We can combine all of this into a softmax class, like:"
      ]
    },
    {
      "cell_type": "code",
      "metadata": {
        "id": "iTWSxTIkDyhg"
      },
      "source": [
        "# Softmax activation\n",
        "class Softmax:\n",
        "\n",
        "  # Forward pass\n",
        "  def forward(self, inputs):\n",
        "    # Get unnormalized probabilities\n",
        "    exp_values = np.exp(inputs - np.max(inputs, axis=1, keepdims=True))\n",
        "    # Normalize them for each sample\n",
        "    probabilities = exp_values / np.sum(exp_values, axis=1, keepdims=True)\n",
        "\n",
        "    self.output = probabilities"
      ],
      "execution_count": 34,
      "outputs": []
    },
    {
      "cell_type": "markdown",
      "metadata": {
        "id": "AjU6CKKEF0Xy"
      },
      "source": [
        "Finally, we also included a subtraction of the largest of the inputs before we did the exponentiation. There are two main pervasive challenges with neural networks: “dead neurons” and very large numbers (referred to as “exploding” values). “Dead” neurons and enormous numbers can wreak havoc down the line and render a network useless over time. The exponential function used in softmax activation is one of the sources of exploding values. \n",
        "\n",
        "Let’s see some examples of how and why this can easily happen:"
      ]
    },
    {
      "cell_type": "code",
      "metadata": {
        "id": "H55wFdhZF-Kw",
        "outputId": "b9f1f097-11c7-4348-bc71-e0e3a0c93ac8",
        "colab": {
          "base_uri": "https://localhost:8080/"
        }
      },
      "source": [
        "print(np.exp(1))"
      ],
      "execution_count": 26,
      "outputs": [
        {
          "output_type": "stream",
          "text": [
            "2.718281828459045\n"
          ],
          "name": "stdout"
        }
      ]
    },
    {
      "cell_type": "code",
      "metadata": {
        "id": "UvsHhmFVGKNC",
        "outputId": "728d0f1c-fc88-4c1b-9825-cc49da512771",
        "colab": {
          "base_uri": "https://localhost:8080/"
        }
      },
      "source": [
        "print(np.exp(10))"
      ],
      "execution_count": 27,
      "outputs": [
        {
          "output_type": "stream",
          "text": [
            "22026.465794806718\n"
          ],
          "name": "stdout"
        }
      ]
    },
    {
      "cell_type": "code",
      "metadata": {
        "id": "0qRpIcayGOHE",
        "outputId": "974d15f5-430f-4edd-c641-65388038a5bd",
        "colab": {
          "base_uri": "https://localhost:8080/"
        }
      },
      "source": [
        "print(np.exp(100))"
      ],
      "execution_count": 28,
      "outputs": [
        {
          "output_type": "stream",
          "text": [
            "2.6881171418161356e+43\n"
          ],
          "name": "stdout"
        }
      ]
    },
    {
      "cell_type": "code",
      "metadata": {
        "id": "1kNf3-61GS1C",
        "outputId": "d7e257a5-ec68-42e0-c950-b14f651074ee",
        "colab": {
          "base_uri": "https://localhost:8080/"
        }
      },
      "source": [
        "print(np.exp(1000))"
      ],
      "execution_count": 29,
      "outputs": [
        {
          "output_type": "stream",
          "text": [
            "inf\n"
          ],
          "name": "stdout"
        },
        {
          "output_type": "stream",
          "text": [
            "/usr/local/lib/python3.7/dist-packages/ipykernel_launcher.py:1: RuntimeWarning: overflow encountered in exp\n",
            "  \"\"\"Entry point for launching an IPython kernel.\n"
          ],
          "name": "stderr"
        }
      ]
    },
    {
      "cell_type": "markdown",
      "metadata": {
        "id": "3L1E1uneGhKD"
      },
      "source": [
        "It doesn’t take a very large number, in this case, a mere 1,000 , to cause an overflow error. \n",
        "\n",
        "We know the exponential function tends toward 0 as its input value approaches negative infinity, and the output is 1 when the input is 0."
      ]
    },
    {
      "cell_type": "code",
      "metadata": {
        "id": "WWaY2D6SGwIZ",
        "outputId": "808e2d8c-e863-41f0-a57c-b07cbfb03985",
        "colab": {
          "base_uri": "https://localhost:8080/"
        }
      },
      "source": [
        "print(np.exp(-np.inf), np.exp(0))"
      ],
      "execution_count": 31,
      "outputs": [
        {
          "output_type": "stream",
          "text": [
            "0.0 1.0\n"
          ],
          "name": "stdout"
        }
      ]
    },
    {
      "cell_type": "markdown",
      "metadata": {
        "id": "Z4GVdntuHA__"
      },
      "source": [
        "We can use this property to prevent the exponential function from overflowing.\n",
        "\n",
        "With Softmax, thanks to the normalization, we can subtract any value from all of the inputs, and it will not change the output:"
      ]
    },
    {
      "cell_type": "code",
      "metadata": {
        "id": "AMYe1JAPHW60",
        "outputId": "d07c9102-0214-4b42-ddf3-75f03b693f31",
        "colab": {
          "base_uri": "https://localhost:8080/"
        }
      },
      "source": [
        "softmax = Softmax()\n",
        "softmax.forward([[1, 2, 3]])\n",
        "print(softmax.output)"
      ],
      "execution_count": 36,
      "outputs": [
        {
          "output_type": "stream",
          "text": [
            "[[0.09003057 0.24472847 0.66524096]]\n"
          ],
          "name": "stdout"
        }
      ]
    },
    {
      "cell_type": "code",
      "metadata": {
        "id": "7pKVF21UIAat",
        "outputId": "83490ab6-c784-4525-fcc6-add8efef221a",
        "colab": {
          "base_uri": "https://localhost:8080/"
        }
      },
      "source": [
        "# subtracted 3 - max from the list\n",
        "softmax.forward([[-2, -1, 0]])\n",
        "print(softmax.output)"
      ],
      "execution_count": 37,
      "outputs": [
        {
          "output_type": "stream",
          "text": [
            "[[0.09003057 0.24472847 0.66524096]]\n"
          ],
          "name": "stdout"
        }
      ]
    },
    {
      "cell_type": "markdown",
      "metadata": {
        "id": "OyN9ylTbIaEU"
      },
      "source": [
        "This is another useful property of the exponentiated and normalized function. \n",
        "\n",
        "There’s one more thing to mention in addition to these calculations. \n",
        "\n",
        "What happens if we divide the layer’s output data, `[1, 2, 3]` , for example, by 2?"
      ]
    },
    {
      "cell_type": "code",
      "metadata": {
        "id": "dQkUPkLJIq-k",
        "outputId": "e55e40a3-e49f-4d7f-b5ad-1ba80236efc5",
        "colab": {
          "base_uri": "https://localhost:8080/"
        }
      },
      "source": [
        "softmax.forward([[.5, 1, 1.5]])\n",
        "print(softmax.output)"
      ],
      "execution_count": 38,
      "outputs": [
        {
          "output_type": "stream",
          "text": [
            "[[0.18632372 0.30719589 0.50648039]]\n"
          ],
          "name": "stdout"
        }
      ]
    },
    {
      "cell_type": "markdown",
      "metadata": {
        "id": "HySPfRBEJDvp"
      },
      "source": [
        "The output confidences have changed due to the nonlinearity nature of the exponentiation. This is one example of why we need to scale all of the input data to a neural network in the same way."
      ]
    },
    {
      "cell_type": "code",
      "metadata": {
        "id": "3NoHX62WI1IM"
      },
      "source": [
        ""
      ],
      "execution_count": null,
      "outputs": []
    }
  ]
}