{
  "nbformat": 4,
  "nbformat_minor": 0,
  "metadata": {
    "colab": {
      "name": "1-implementing-own-spam-filter.ipynb",
      "provenance": [],
      "toc_visible": true,
      "authorship_tag": "ABX9TyPyJ/fSZsv3JF9LGye6dx9/",
      "include_colab_link": true
    },
    "kernelspec": {
      "name": "python3",
      "display_name": "Python 3"
    },
    "language_info": {
      "name": "python"
    }
  },
  "cells": [
    {
      "cell_type": "markdown",
      "metadata": {
        "id": "view-in-github",
        "colab_type": "text"
      },
      "source": [
        "<a href=\"https://colab.research.google.com/github/rahiakela/machine-learning-algorithms/blob/main/Essential-NLP/02-your-first-nlp-example/1_implementing_own_spam_filter.ipynb\" target=\"_parent\"><img src=\"https://colab.research.google.com/assets/colab-badge.svg\" alt=\"Open In Colab\"/></a>"
      ]
    },
    {
      "cell_type": "markdown",
      "metadata": {
        "id": "KLlSdPejwIUX"
      },
      "source": [
        "##Implementing own spam filter"
      ]
    },
    {
      "cell_type": "markdown",
      "metadata": {
        "id": "az_VbEjXwQ1H"
      },
      "source": [
        "In this notebook, you use the spam filtering as your practical NLP application as it is an example of a very widely spread family of tasks – text classification. Text classification comprises a number of applications, for example user profiling, sentiment analysis and topic labeling, so this\n",
        "will give you a good start for the rest of the book. \n",
        "\n",
        "First, let’s see what exactly classification addresses.\n",
        "\n",
        "We, humans apply classification in our everyday lives pretty regularly: classifying things simply implies that we try to put them into clearly defined groups, classes or categories. \n",
        "\n",
        "In fact, we tend to classify all sorts of things all the time. Here are some examples:\n",
        "\n",
        "- based on our level of engagement and interest in a movie, we may classify it as interesting or boring;\n",
        "- based on temperature, we classify water as cold or hot;\n",
        "- based on the amount of sunshine, humidity, wind strength and air temperature, we classify the weather as good or bad;\n",
        "- based on the number of wheels, we classify vehicles into unicycles, bicycles, tricycles, quadricycles, cars and so on;\n",
        "- based on the availability of the engine, we may classify two-wheeled vehicles into bicycles and motorcycles.\n",
        "\n",
        "Classification is useful because it makes it easier for us to reason about things and adjust our behavior accordingly.\n",
        "\n",
        "When classifying things, we often go for simple contrasts – good vs. bad, interesting vs. boring, hot vs. cold. When we are dealing with two labels only, this is called binary classification.\n",
        "\n",
        "Classification that implies more than two classes is called multi-class classification.\n",
        "\n"
      ]
    },
    {
      "cell_type": "markdown",
      "metadata": {
        "id": "5iw4HFbozDIH"
      },
      "source": [
        "##Setup"
      ]
    },
    {
      "cell_type": "code",
      "metadata": {
        "id": "L0b1JWPZzEQY"
      },
      "source": [
        "import os\n",
        "import codecs\n",
        "import random\n",
        "\n",
        "import nltk\n",
        "from nltk import word_tokenize\n",
        "from nltk import NaiveBayesClassifier, classify\n",
        "from nltk.text import Text"
      ],
      "execution_count": 1,
      "outputs": []
    },
    {
      "cell_type": "code",
      "metadata": {
        "id": "ssQDUMiQITbJ",
        "colab": {
          "base_uri": "https://localhost:8080/"
        },
        "outputId": "09e2cf7e-868a-4b2f-fc00-71f0520d1aac"
      },
      "source": [
        "nltk.download('punkt')"
      ],
      "execution_count": 2,
      "outputs": [
        {
          "output_type": "stream",
          "name": "stdout",
          "text": [
            "[nltk_data] Downloading package punkt to /root/nltk_data...\n",
            "[nltk_data]   Unzipping tokenizers/punkt.zip.\n"
          ]
        },
        {
          "output_type": "execute_result",
          "data": {
            "text/plain": [
              "True"
            ]
          },
          "metadata": {},
          "execution_count": 2
        }
      ]
    },
    {
      "cell_type": "code",
      "metadata": {
        "colab": {
          "base_uri": "https://localhost:8080/"
        },
        "id": "LHRXbiApBXvX",
        "outputId": "c9e185d9-d8b2-42ff-cff5-c98257428c2f"
      },
      "source": [
        "%%shell\n",
        "\n",
        "wget -qq https://github.com/ekochmar/Essential-NLP/raw/master/enron1.zip\n",
        "wget -qq https://github.com/ekochmar/Essential-NLP/raw/master/enron2.zip\n",
        "unzip -qq enron1.zip\n",
        "unzip -qq enron2.zip"
      ],
      "execution_count": 25,
      "outputs": [
        {
          "output_type": "execute_result",
          "data": {
            "text/plain": [
              ""
            ]
          },
          "metadata": {},
          "execution_count": 25
        }
      ]
    },
    {
      "cell_type": "markdown",
      "metadata": {
        "id": "cuBTLl031VAJ"
      },
      "source": [
        "##Step 1: Define the data and classes"
      ]
    },
    {
      "cell_type": "markdown",
      "metadata": {
        "id": "fKg-cGuB1XwK"
      },
      "source": [
        "Enron email dataset is a large dataset of emails (the original dataset contains about 0.5M messages), including both ham and spam emails, for about 150 users, mostly senior management of Enron.\n",
        "\n",
        "We are going to use enron1/ folder for training. All folders in Enron\n",
        "dataset contain spam and ham emails in separate subfolders, so you don’t need to worry about pre-defining them. Each email is stored as a text file in these subfolders. \n",
        "\n",
        "Let’s read in the contents of these text files in each subfolder, store the spam emails contents and the ham emails contents as two separate data structures and point our algorithm at each, clearly\n",
        "defining which one is spam and which one is ham."
      ]
    },
    {
      "cell_type": "code",
      "metadata": {
        "id": "uyB2rC7cAXv0"
      },
      "source": [
        "def read_files(folder):\n",
        "  files = os.listdir(folder)\n",
        "  a_list = []\n",
        "  for a_file in files:\n",
        "    # Skip hidden files, that are sometimes automatically created by the operating systems. They can be easily identified because their names start with “.”\n",
        "    if not a_file.startswith(\".\"):\n",
        "      file = codecs.open(folder + a_file, \"r\", encoding=\"ISO-8859-1\", errors=\"ignore\")\n",
        "      a_list.append(file.read())\n",
        "      file.close()\n",
        "  return a_list"
      ],
      "execution_count": 4,
      "outputs": []
    },
    {
      "cell_type": "markdown",
      "metadata": {
        "id": "CRBJFb2GDOBS"
      },
      "source": [
        "Now you can define two such lists – spam_list and ham_list, letting the machine know what data to use as examples of spam emails and what data represents ham emails."
      ]
    },
    {
      "cell_type": "code",
      "metadata": {
        "colab": {
          "base_uri": "https://localhost:8080/"
        },
        "id": "B8u2XdijC_8n",
        "outputId": "5176abf6-0d24-4012-f08e-95022117439a"
      },
      "source": [
        "spam_list = read_files(\"enron1/spam/\")\n",
        "ham_list = read_files(\"enron1/ham/\")\n",
        "\n",
        "# Check the lengths of the lists: for spam it should be 1500 and for ham – 3672\n",
        "print(len(spam_list))\n",
        "print(len(ham_list))"
      ],
      "execution_count": 5,
      "outputs": [
        {
          "output_type": "stream",
          "name": "stdout",
          "text": [
            "1500\n",
            "3672\n"
          ]
        }
      ]
    },
    {
      "cell_type": "markdown",
      "metadata": {
        "id": "jBSBQjjlD_GZ"
      },
      "source": [
        "Let's check out the contents of the first entry. In both cases, it should coincide with the contents of the first file in each correspondent subfolder."
      ]
    },
    {
      "cell_type": "code",
      "metadata": {
        "colab": {
          "base_uri": "https://localhost:8080/"
        },
        "id": "kGjDZk7qDw6v",
        "outputId": "5a974036-d60a-4e60-9c31-bf3b51b7a108"
      },
      "source": [
        "print(spam_list[0])"
      ],
      "execution_count": 6,
      "outputs": [
        {
          "output_type": "stream",
          "name": "stdout",
          "text": [
            "Subject: hI there man - feel the vitality\r\n",
            "What about their health\r\n",
            "V * i. 0' x' x 25 m. G 3 o piils 72. 5 o\r\n",
            "V' 1. A. G. R' a loo m, g 32 pills 149. Oo\r\n",
            "C. 1. A, l. 1' s 2 o m. G lo pills 79. Oo\r\n",
            "Create an 0. R. D. E. R: http:// earthy. Yesmeds - now. Net/? Wid = 209015! Same day shlpp 1 ng!\r\n",
            "We also have in stock:\r\n",
            "X, a * n, a, x 1 m, g 3 o pI | | s 79. 0 o\r\n",
            "P * r. 0, z. A * c 20 m. G 3 o pilis 110. 00\r\n",
            "P * a, x * 1, l 2 o m. G 2 o pil | s 155. 00\r\n",
            "M, e. R' i' d' i. A lo m. G 3 o p! | | s 147. Oo\r\n",
            "Nice meeting you\r\n",
            "LaurI berg\r\n",
            "Detective\r\n",
            "Flexione pte limited, singapore, singapore\r\n",
            "Phone: 525 - 714 - 4578\r\n",
            "Mobile: 278 - 511 - 6124\r\n",
            "Email: dtewvhb@ dotcool. Com\r\n",
            "This message is for confirmation\r\n",
            "This freeware is a 46 day usage package\r\n",
            "Notes:\r\n",
            "The contents of this info is for attention and should not be cretaceous laidlaw\r\n",
            "Fire freemen needful\r\n",
            "Time: sat, 22 jan 2005 12: 19: 58 + 0200\r\n",
            "\n"
          ]
        }
      ]
    },
    {
      "cell_type": "code",
      "metadata": {
        "colab": {
          "base_uri": "https://localhost:8080/"
        },
        "id": "-xuyuJyVD0ve",
        "outputId": "e6f1dddd-4794-493b-fb25-19ca9d0567d3"
      },
      "source": [
        "print(ham_list[0])"
      ],
      "execution_count": 7,
      "outputs": [
        {
          "output_type": "stream",
          "name": "stdout",
          "text": [
            "Subject: meter 1517\r\n",
            "Daren - meter 1517 has a nom of 0/day for jan. It flowed about 5. 400 on day\r\n",
            "1. This is a valid flow. Could you please extend the deal from dec. (deal #\r\n",
            "506192) or create a new one? Thanks.\r\n",
            "Al\n"
          ]
        }
      ]
    },
    {
      "cell_type": "markdown",
      "metadata": {
        "id": "YSAN2RwlEYHf"
      },
      "source": [
        "Next, you’ll need to preprocess the data (e.g., by splitting text strings into words) and extract the features.\n",
        "\n",
        "Finally, remember that you will need to split the data randomly into the\n",
        "training and test sets. \n",
        "\n",
        "Let’s shuffle the resulting list of emails with their labels, and make\n",
        "sure that the shuffle is reproducible by fixing the way in which the data is shuffled:"
      ]
    },
    {
      "cell_type": "code",
      "metadata": {
        "colab": {
          "base_uri": "https://localhost:8080/"
        },
        "id": "5RiJyKNlEkja",
        "outputId": "f6a13cf5-9d65-4366-e244-9bf3615bb7a7"
      },
      "source": [
        "# for each member of the ham_list and spam_list it stores a tuple with the content and associated label\n",
        "all_emails = [(email_content, \"spam\") for email_content in spam_list]\n",
        "all_emails += [(email_content, \"ham\") for email_content in ham_list]\n",
        "\n",
        "# By defining the seed for the random operator you can make sure that all future runs will shuffle the data in the same way\n",
        "random.seed(2020)\n",
        "random.shuffle(all_emails)\n",
        "\n",
        "# it should be equal to 1500 + 3672 = 5172\n",
        "print(f\"Dataset size = {str(len(all_emails))} emails\")"
      ],
      "execution_count": 8,
      "outputs": [
        {
          "output_type": "stream",
          "name": "stdout",
          "text": [
            "Dataset size = 5172 emails\n"
          ]
        }
      ]
    },
    {
      "cell_type": "markdown",
      "metadata": {
        "id": "KWi887yuFvSO"
      },
      "source": [
        "##Step 2: Split the text into words"
      ]
    },
    {
      "cell_type": "markdown",
      "metadata": {
        "id": "VLddWLQCFwDH"
      },
      "source": [
        "Remember, that the email contents that you’ve read in so far each come as a single string of symbols. The first step of text preprocessing involves splitting the running text into words.\n",
        "\n",
        "You are going to use NLTK’s tokenizer. It takes running text as input and returns a list of words based on a number of customized regular expressions, which help to delimit the text by whitespaces and punctuation marks, keeping common words like “U.S.A.” unsplit."
      ]
    },
    {
      "cell_type": "code",
      "metadata": {
        "id": "ax--Co5UHtrp"
      },
      "source": [
        "def tokenize(sent):\n",
        "  word_list = []\n",
        "  for word in word_tokenize(sent):\n",
        "    word_list.append(word)\n",
        "  return word_list"
      ],
      "execution_count": 9,
      "outputs": []
    },
    {
      "cell_type": "code",
      "metadata": {
        "id": "Ou5Moij6IGyM",
        "colab": {
          "base_uri": "https://localhost:8080/"
        },
        "outputId": "807ce7c5-fcf0-45dc-a4d7-4834f31023e6"
      },
      "source": [
        "input = \"What's the best way to split a sentence into words?\"\n",
        "print(tokenize(input))"
      ],
      "execution_count": 10,
      "outputs": [
        {
          "output_type": "stream",
          "name": "stdout",
          "text": [
            "['What', \"'s\", 'the', 'best', 'way', 'to', 'split', 'a', 'sentence', 'into', 'words', '?']\n"
          ]
        }
      ]
    },
    {
      "cell_type": "code",
      "metadata": {
        "id": "PHUAMWe1IRKM",
        "colab": {
          "base_uri": "https://localhost:8080/"
        },
        "outputId": "982dcf18-542e-49ed-bc72-56f6b7f495b8"
      },
      "source": [
        "input = \"I live in U.S.A country.\"\n",
        "print(tokenize(input))"
      ],
      "execution_count": 11,
      "outputs": [
        {
          "output_type": "stream",
          "name": "stdout",
          "text": [
            "['I', 'live', 'in', 'U.S.A', 'country', '.']\n"
          ]
        }
      ]
    },
    {
      "cell_type": "markdown",
      "metadata": {
        "id": "vJqriHimIhpG"
      },
      "source": [
        "##Step 3: Extract and normalize the features"
      ]
    },
    {
      "cell_type": "markdown",
      "metadata": {
        "id": "XTZt4WYqIiXb"
      },
      "source": [
        "Once the words are extracted from running text, you need to convert them into features. In particular, you need to put all words into lower case to make your algorithm establish the connection between different formats like “Lottery” and “lottery”.\n",
        "\n",
        "Putting all strings to lower case can be achieved with Python’s string functionality. To extract the features (words) from the text, you need to iterate through the recognized words and put all words to lower case."
      ]
    },
    {
      "cell_type": "code",
      "metadata": {
        "id": "PmupbFaDWCl1"
      },
      "source": [
        "def get_features(text):\n",
        "  features = {}\n",
        "  word_list = [word for word in word_tokenize(text.lower())]\n",
        "  # For each word in the email let’s switch on the ‘flag’ that this word is contained in the email\n",
        "  for word in word_list:\n",
        "    features[word] = True\n",
        "  \n",
        "  return features"
      ],
      "execution_count": 12,
      "outputs": []
    },
    {
      "cell_type": "code",
      "metadata": {
        "id": "d9Lb5pktWv5A",
        "colab": {
          "base_uri": "https://localhost:8080/"
        },
        "outputId": "1354891c-14b1-40c7-8c25-10b8f6efc413"
      },
      "source": [
        "# it will keep tuples containing the list of features matched with the “spam” or “ham” label for each email\n",
        "all_features = [(get_features(email), label) for (email, label) in all_emails]\n",
        "\n",
        "print(get_features(\"Participate In Our New Lottery NOW!\"))\n",
        "\n",
        "print(len(all_features))\n",
        "print(len(all_features[0][0]))\n",
        "print(len(all_features[99][0]))"
      ],
      "execution_count": 13,
      "outputs": [
        {
          "output_type": "stream",
          "name": "stdout",
          "text": [
            "{'participate': True, 'in': True, 'our': True, 'new': True, 'lottery': True, 'now': True, '!': True}\n",
            "5172\n",
            "29\n",
            "18\n"
          ]
        }
      ]
    },
    {
      "cell_type": "markdown",
      "metadata": {
        "id": "OZRPIDsSaE8E"
      },
      "source": [
        "With this bit of code, you iterate over the emails in your collection (all_emails) and store the list of features extracted from each email matched with the label.\n",
        "\n",
        "For example, if a spam email consists of a single sentence “Participate In Our New Lottery NOW!” your algorithm will first extract the list of features present in this email and assign a ‘True’ value to each of them.\n",
        "\n",
        "Then, the algorithm will add this list of features to\n",
        "all_features together with the “spam” label.\n",
        "\n",
        "<img src='https://github.com/rahiakela/machine-learning-algorithms/blob/main/Essential-NLP/02-your-first-nlp-example/images/1.png?raw=1' width='800'/>\n",
        "\n",
        "Imagine your whole dataset contained only one spam text “Participate In Our New Lottery NOW!” and one ham text “Participate in the Staff Survey”. What features will be extracted from this dataset?\n",
        "\n",
        "You will end up with the following feature set:\n",
        "\n",
        "<img src='https://github.com/rahiakela/machine-learning-algorithms/blob/main/Essential-NLP/02-your-first-nlp-example/images/2.png?raw=1' width='800'/>\n",
        "\n",
        "Let’s now clarify what each tuple structure representing an email contains. Tuples pair up two information fields: in this case a list of features extracted from the email and its label, i.e. each tuple in `all_features` contains a pair (`list_of_features`, `label`).\n",
        "\n",
        "So if you’d like to access first email in the list, you call on `all_features[0]`, to access its list of features you use `all_features[0][0]`, and to access its label you use `all_features[0][1]`.\n",
        "\n",
        "<img src='https://github.com/rahiakela/machine-learning-algorithms/blob/main/Essential-NLP/02-your-first-nlp-example/images/3.png?raw=1' width='800'/>\n",
        "\n",
        "\n",
        "\n"
      ]
    },
    {
      "cell_type": "code",
      "metadata": {
        "id": "cr356828cl5n",
        "colab": {
          "base_uri": "https://localhost:8080/"
        },
        "outputId": "91a4517b-c3d4-4985-a4fe-2ac1ad14ee7a"
      },
      "source": [
        "# access first email in the list with feature and label\n",
        "all_features[0]"
      ],
      "execution_count": 14,
      "outputs": [
        {
          "output_type": "execute_result",
          "data": {
            "text/plain": [
              "({'!': True,\n",
              "  ',': True,\n",
              "  '.': True,\n",
              "  ':': True,\n",
              "  'am': True,\n",
              "  'and': True,\n",
              "  'fl': True,\n",
              "  'for': True,\n",
              "  'friends': True,\n",
              "  'from': True,\n",
              "  'hey': True,\n",
              "  'hi': True,\n",
              "  'homepage': True,\n",
              "  'i': True,\n",
              "  'is': True,\n",
              "  'jane': True,\n",
              "  'last': True,\n",
              "  'looking': True,\n",
              "  'miami': True,\n",
              "  'my': True,\n",
              "  'name': True,\n",
              "  'new': True,\n",
              "  'photos': True,\n",
              "  'see': True,\n",
              "  'subject': True,\n",
              "  'webcam': True,\n",
              "  'weblog': True,\n",
              "  'with': True,\n",
              "  'you': True},\n",
              " 'spam')"
            ]
          },
          "metadata": {},
          "execution_count": 14
        }
      ]
    },
    {
      "cell_type": "code",
      "metadata": {
        "id": "1FS65Hbmcq_F",
        "colab": {
          "base_uri": "https://localhost:8080/"
        },
        "outputId": "70b198ee-19f4-4347-ae79-04b1dd4e0df2"
      },
      "source": [
        "# access its list of features only\n",
        "all_features[0][0]"
      ],
      "execution_count": 15,
      "outputs": [
        {
          "output_type": "execute_result",
          "data": {
            "text/plain": [
              "{'!': True,\n",
              " ',': True,\n",
              " '.': True,\n",
              " ':': True,\n",
              " 'am': True,\n",
              " 'and': True,\n",
              " 'fl': True,\n",
              " 'for': True,\n",
              " 'friends': True,\n",
              " 'from': True,\n",
              " 'hey': True,\n",
              " 'hi': True,\n",
              " 'homepage': True,\n",
              " 'i': True,\n",
              " 'is': True,\n",
              " 'jane': True,\n",
              " 'last': True,\n",
              " 'looking': True,\n",
              " 'miami': True,\n",
              " 'my': True,\n",
              " 'name': True,\n",
              " 'new': True,\n",
              " 'photos': True,\n",
              " 'see': True,\n",
              " 'subject': True,\n",
              " 'webcam': True,\n",
              " 'weblog': True,\n",
              " 'with': True,\n",
              " 'you': True}"
            ]
          },
          "metadata": {},
          "execution_count": 15
        }
      ]
    },
    {
      "cell_type": "code",
      "metadata": {
        "id": "4iOwXVnfdHdp",
        "colab": {
          "base_uri": "https://localhost:8080/",
          "height": 35
        },
        "outputId": "e6eebed7-85d7-420f-ba42-51cf0c79fcdb"
      },
      "source": [
        "# access its label only\n",
        "all_features[0][1]"
      ],
      "execution_count": 16,
      "outputs": [
        {
          "output_type": "execute_result",
          "data": {
            "application/vnd.google.colaboratory.intrinsic+json": {
              "type": "string"
            },
            "text/plain": [
              "'spam'"
            ]
          },
          "metadata": {},
          "execution_count": 16
        }
      ]
    },
    {
      "cell_type": "markdown",
      "metadata": {
        "id": "oSkWOZNfdMC0"
      },
      "source": [
        "##Step 4: Train the classifier"
      ]
    },
    {
      "cell_type": "markdown",
      "metadata": {
        "id": "aYSAh72HdP-X"
      },
      "source": [
        "Next, let’s apply machine learning and teach the machine to distinguish between the features that describe each of the two classes. There are a number of classification algorithms that you can use, let’s start with one of the most interpretable ones – an algorithm called **Naïve Bayes**. Don’t be misled by the word “Naïve” in its title, though: despite relative simplicity of the approach compared to other ones, this algorithm often works well in practice\n",
        "and sets a competitive performance baseline that is hard to beat with more sophisticated approaches.\n",
        "\n",
        "Naïve Bayes is a probabilistic classifier, which means that it makes the class prediction based on the estimate of which outcome is most likely: i.e., it assesses the probability of an\n",
        "email being spam and compares it with the probability of it being ham, and then selects the outcome that is most probable between the two.\n",
        "\n",
        "In the previous step, you extracted the content of the email and converted it into a list of individual words (features). In this step, the machine will try to predict whether the email content represents spam or ham. \n",
        "\n",
        "In other words, it will try to predict whether the email is spam or ham given or conditioned on its content. This type of probability, when the outcome (class of “spam” or “ham”) depends on the condition (words used as features), is called conditional probability. \n",
        "\n",
        "For spam detection, you estimate `P(spam | email content)` and `P(ham | email content)`, or generally `P(outcome | (given) condition)`.Then you compare one estimate to another and return the most probable class.\n",
        "\n",
        "```python\n",
        "If P(spam | content) = 0.58 and P(ham | content) = 0.42, predict spam\n",
        "If P(spam | content) = 0.37 and P(ham | content) = 0.63, predict ham\n",
        "```\n",
        "\n",
        "<img src='https://github.com/rahiakela/machine-learning-algorithms/blob/main/Essential-NLP/02-your-first-nlp-example/images/4.png?raw=1' width='800'/>\n",
        "\n",
        "A machine can estimate the probability that an email is spam or ham conditioned on its content taking the number of times it has seen this content leading to a particular outcome.\n",
        "\n",
        "```\n",
        "P(spam | \"Participate in our lottery now!\") = (number of emails \"Participate in our lottery now!\" that are spam) / (total number of emails \"Participate in our lottery now!\", either spam or ham)\n",
        "\n",
        "P(ham | \"Participate in our lottery now!\") = (number of emails \"Participate in our lottery now!\" that are ham) / (total number of emails \"Participate in our lottery now!\", either spam or ham)\n",
        "```\n",
        "\n",
        "In the general form, this can be expressed as:\n",
        "\n",
        "```\n",
        "P(outcome | condition) = number_of_times(condition led to outcome) number_of_times(condition applied)\n",
        "```\n",
        "\n",
        "Remember that you used tokenization to split long texts into separate words to let the algorithm access the smaller bits of information – words rather than whole sequences. The idea of estimating probabilities based on separate features rather than based on the whole sequence of features (whole text) is somewhat similar.\n",
        "\n",
        "In the previous step, you converted this single text into a set of features as:\n",
        "\n",
        "```['participate': True, 'in': True, …, 'now': True, '!': True]``` \n",
        "\n",
        "Note that the conditional probabilities like:\n",
        "\n",
        "``` \n",
        "P(spam| \"Participate in our lottery now!\") and P(spam| ['participate': True,\n",
        "‘in’: True, …, ‘now’: True, ‘!’: True])\n",
        "```\n",
        "\n",
        "are the same because this set of features encodes the text.\n",
        "\n",
        "Is there a way to split this set to get at more fine-grained, individual probabilities, for example to establish a link between `[‘lottery’: True]` and the class of “spam”?\n",
        "\n",
        "Unfortunately, there is no way to split the conditional probability estimation like `P(outcome | conditions)` when there are multiple conditions specified, however it is possible to split the probability estimation like `P(outcomes | condition)` when there is a single condition and multiple outcomes.\n",
        "\n",
        "In spam detection, the class is a single value (it is “spam” or “ham”), while features are a set `([‘participate’: True, ‘in’: True, …, ‘now’: True, ‘!’:\n",
        "True])`. If you can flip around the single value of class and the set of features in such a way that the class becomes the new condition and the features become the new outcomes, you can split the probability into smaller components and establish the link between individual features like `[‘lottery’: True]` and class values like “spam”.\n",
        "\n",
        "\n",
        "<img src='https://github.com/rahiakela/machine-learning-algorithms/blob/main/Essential-NLP/02-your-first-nlp-example/images/5.png?raw=1' width='800'/>\n",
        "\n",
        "Luckily, there is a way to flip the outcomes (class) and conditions (features extracted from the content) around!\n",
        "\n",
        "Let’s look into the estimation of conditional probabilities again: you\n",
        "estimate the probability that the email is spam given that its content is “Participate in our new lottery now!” based on how often in the past an email with such content was spam. For that, you take the proportion of the times you have seen “Participate in our new lottery now!” in a spam email among the emails with this content.\n",
        "\n",
        "```\n",
        "P(spam | \"Participate in our new lottery now!\") = P(\"Participate in our new lottery now!\" is used in a spam email) / P(\"Participate in our new lottery now!\" is used in an email)\n",
        "```\n",
        "\n",
        "Similarly to how you estimated the probabilities above, you need the proportion of times you have seen “Participate in our new lottery now!” in a spam email among all spam emails.\n",
        "\n",
        "```\n",
        "P(\"Participate in our new lottery now!\" | spam) = P(\"Participate in our new lottery now!\" is used in a spam email) / P(an email is spam)\n",
        "```\n",
        "\n",
        "That is, every time you use conditional probabilities, you need to\n",
        "divide how likely it is that you see the condition and outcome together by how likely it is that you see the condition on its own – this is the bit after |.\n",
        "\n",
        "Now you can see that both Formulas 1 and 2 rely on how often you see particular content in an email of particular class. They share this bit, so you can use it to connect the two formulas. For instance, from Formula 2 you know that:\n",
        "\n",
        "```\n",
        "P(\"Participate in our new lottery now!\" is used in a spam email) = P(\"Participate in our new lottery now!\" | spam) * P(an email is spam)\n",
        "```\n",
        "\n",
        "Now you can fit this into Formula 1:\n",
        "\n",
        "```\n",
        "P(spam | \"Participate in our new lottery now!\") = P(\"Participate in our new lottery now!\" is used in a spam email) / P(\"Participate in our new lottery now!\" is used in an email) = [P(\"Participate in our new lottery now!\" | spam) * P(an email is spam)] / P(\"Participate in our new lottery now!\" is used in an email)\n",
        "```\n",
        "\n",
        "<img src='https://github.com/rahiakela/machine-learning-algorithms/blob/main/Essential-NLP/02-your-first-nlp-example/images/6.png?raw=1' width='800'/>\n",
        "\n",
        "In the general form:\n",
        "\n",
        "```\n",
        "P(class | content) = P(content represents class) / P(content) = [P(content | class) * P(class)] / P(content)\n",
        "```\n",
        "\n",
        "In other words, you can express the probability of a class given email content via the probability of the content given the class.\n",
        "\n",
        "Now you can replace the conditional probability of `P(class | content)` with `P(content | class)`, e.g. whereas before you had to calculate `P(“spam” | “Participate in our new lottery now!”)` or equally `P(“spam” | [‘participate’: True, ‘in’: True, …, ‘now’: True, ‘!’: True])`, which is hard to do because you will often end up with too few examples of exactly the same email content or exactly the same combination of features, now you can estimate `P([‘participate’: True, ‘in’: True, …, ‘now’: True, ‘!’: True] | “spam”)` instead.\n",
        "\n",
        "But how does this solve the problem? Aren’t you still dealing with a long sequence of features?\n",
        "\n",
        "Here is where the “naïve” assumption in Naïve Bayes helps: it assumes that the features are independent of each other, or that your chances of seeing a word “lottery” in an email are independent of seeing a word “new” or any other word in this email before. So you can estimate the probability of the whole sequence of features given a class as a product of probabilities of each feature given this class.\n",
        "\n",
        "```\n",
        "P([‘participate’: True, ‘in’: True, …, ‘now’: True, ‘!’: True] | “spam”) = P(‘participate’: True | “spam”) * P(‘in’: True | “spam”) … * P(‘!’: True | “spam”)\n",
        "```\n",
        "\n",
        "If you express `[‘participate’: True]` as the first feature in the feature list, or `f1`, `[‘in’: True]` as `f2`, and so on, until `fn = [‘!’: True]`, you can use the general formula:\n",
        "\n",
        "```\n",
        "P([f1, f2, …, fn] | class) = P(f1 | class) * P(f2| class) … * P(fn| class)\n",
        "```\n",
        "\n",
        "<img src='https://github.com/rahiakela/machine-learning-algorithms/blob/main/Essential-NLP/02-your-first-nlp-example/images/7.png?raw=1' width='800'/>\n",
        "\n",
        "Now that you have broken down the probability of the whole feature list given class into the probabilities for each word given that class, how do you actually estimate them?\n",
        "\n",
        "Since for each email you note which words occur in it, the total number of times you can switch on the flag `[‘feature’: True]` equals the total number of emails in that class, while the actual number of times you switch on this flag is the number of emails where this feature is actually\n",
        "present. The conditional probability `P(feature | class)` is simply the proportion of the two:\n",
        "\n",
        "```\n",
        "P(feature | class) = number(emails in class with feature present) / total_number(emails in class)\n",
        "```\n",
        "\n",
        "These numbers are easy to estimate from the training data – let’s try to do that with an example.\n",
        "\n",
        ">Suppose you have 5 spam emails and 10 ham emails. What are the conditional probabilities for P('prescription':True | spam), P('meeting':True | ham), P('stock':True | spam) and P('stock':True | ham), if:\n",
        "- 2 spam emails contain word prescription\n",
        "- 1 spam email contains word stock\n",
        "- 3 ham emails contain word stock\n",
        "- 5 ham emails contain word meeting\n",
        "\n",
        "**Solution:**\n",
        "\n",
        "The probabilities are simply:\n",
        "- P('prescription':True | spam) = number(spam emails with 'prescription')/number(spam emails) = 2/5 = 0.40\n",
        "- P('meeting':True | ham) = 5/10 = 0.50\n",
        "- P('stock':True | spam) = 1/5 = 0.20\n",
        "- P('stock':True | ham) = 3/10 = 0.30\n",
        "\n",
        "Let’s iterate through the classification steps again: during the training phase, the algorithm learns prior class probabilities (this is simply\n",
        "class distribution, e.g. `P(ham)=0.71 and P(spam)=0.29)` and probabilities for each feature given each of the classes (this is simply the proportion of emails with each feature in each class, e.g. `P(‘meeting’:True | ham) = 0.50)`. \n",
        "\n",
        "During test phase, or when the algorithm is applied to a new email and is asked to predict its class, the following comparison from the beginning of this section is applied:\n",
        "\n",
        "```\n",
        "Predict “spam” if P(spam | content) > P(ham | content) \n",
        "Predict “ham” otherwise\n",
        "```\n",
        "\n",
        "This is what we started with originally, but we said that the conditions are flipped, so it becomes:\n",
        "\n",
        "```\n",
        "Predict “spam” if P(content | spam) * P(spam) / P(content) > P(content | ham) * P(ham) / P(content)\n",
        "\n",
        "Predict “ham” otherwise\n",
        "```\n",
        "\n",
        "Note that we end up with `P(content)` in denominator on both sides of the expression, so the absolute value of this probability doesn’t matter and it can be removed from the expression altogether. So we can simplify the expression as:\n",
        "\n",
        "```\n",
        "Predict “spam” if P(content | spam) * P(spam) > P(content | ham) * P(ham)\n",
        "Predict “ham” otherwise\n",
        "```\n",
        "\n",
        "`P(spam)` and `P(ham)` are class probabilities estimated during training, and `P(content | class)`, using naïve independence assumption, are products of probabilities, so:\n",
        "\n",
        "```\n",
        "Predict “spam” if P([f1, f2, …, fn]| spam) * P(spam) > P([f1, f2, …, fn]| ham) * P(ham)\n",
        "Predict “ham” otherwise\n",
        "```\n",
        "\n",
        "is split into the individual feature probabilities as:\n",
        "\n",
        "```\n",
        "Predict “spam” if P(f1 | spam) * P(f2| spam) … * P(fn| spam) * P(spam) > P(f1 | ham) * P(f2| ham) … * P(fn| ham) * P(ham)\n",
        "Predict “ham” otherwise\n",
        "```\n",
        "\n",
        "This is the final expression the classifier relies on. The following code implements this idea.\n",
        "Since Naïve Bayes is frequently used for NLP tasks, NLTK comes with its own\n",
        "implementation, too, and here you are going to use it.\n",
        "\n",
        "\n",
        "\n"
      ]
    },
    {
      "cell_type": "code",
      "metadata": {
        "id": "I1JgZtFT8MWL"
      },
      "source": [
        "def train(features, proportion):\n",
        "  train_size = int(len(features) * proportion)\n",
        "  # Use the first n% (according to the specified proportion) of emails with their features for training, and the rest for testing\n",
        "  train_set, test_set = features[: train_size], features[train_size:]\n",
        "  print(f\"Training set size = {str(len(train_set))} emails\")\n",
        "  print(f\"Test set size = {str(len(test_set))} emails\")\n",
        "\n",
        "  classifier = NaiveBayesClassifier.train(train_set)\n",
        "\n",
        "  return train_set, test_set, classifier"
      ],
      "execution_count": 17,
      "outputs": []
    },
    {
      "cell_type": "code",
      "metadata": {
        "id": "Szk7Zr9Z2Lw6",
        "colab": {
          "base_uri": "https://localhost:8080/"
        },
        "outputId": "1608d0c4-1f22-4b31-9523-8eb243731231"
      },
      "source": [
        "# Apply the train function using 80% (or a similar proportion) of emails for training. \n",
        "train_set, test_set, classifier = train(all_features, 0.8)"
      ],
      "execution_count": 18,
      "outputs": [
        {
          "output_type": "stream",
          "name": "stdout",
          "text": [
            "Training set size = 4137 emails\n",
            "Test set size = 1035 emails\n"
          ]
        }
      ]
    },
    {
      "cell_type": "markdown",
      "metadata": {
        "id": "VKwgAyTHA93N"
      },
      "source": [
        "##Step 5: Evaluate your classifier"
      ]
    },
    {
      "cell_type": "markdown",
      "metadata": {
        "id": "7ve6ZA8uA-nm"
      },
      "source": [
        "Finally, let’s evaluate how well the classifier performs in detecting whether an email is spam or ham. For that, let’s use the accuracy score returned by the NLTK’s classifier:"
      ]
    },
    {
      "cell_type": "code",
      "metadata": {
        "id": "YrcWqAwsl1iV"
      },
      "source": [
        "def evaluate(train_set, test_set, classifier):\n",
        "  print(f\"Accuracy on the training set = {str(classify.accuracy(classifier, train_set))}\")\n",
        "  print(f\"Accuracy of the test set = {str(classify.accuracy(classifier, test_set))}\")\n",
        "\n",
        "  # inspect the most informative features (words). You need to specify the number of the top most informative features to look into, e.g. 50 here\n",
        "  classifier.show_most_informative_features(50)"
      ],
      "execution_count": 19,
      "outputs": []
    },
    {
      "cell_type": "code",
      "metadata": {
        "id": "tKdVa-gHmmuF",
        "colab": {
          "base_uri": "https://localhost:8080/"
        },
        "outputId": "2f1164ec-bf8b-4f34-f0c4-e9af243eac52"
      },
      "source": [
        "evaluate(train_set, test_set, classifier)"
      ],
      "execution_count": 20,
      "outputs": [
        {
          "output_type": "stream",
          "name": "stdout",
          "text": [
            "Accuracy on the training set = 0.95987430505197\n",
            "Accuracy of the test set = 0.9497584541062802\n",
            "Most Informative Features\n",
            "               forwarded = True              ham : spam   =    204.3 : 1.0\n",
            "                    2004 = True             spam : ham    =    141.9 : 1.0\n",
            "                    2001 = True              ham : spam   =    130.8 : 1.0\n",
            "            prescription = True             spam : ham    =    127.8 : 1.0\n",
            "                     nom = True              ham : spam   =    125.5 : 1.0\n",
            "                    pain = True             spam : ham    =    107.4 : 1.0\n",
            "                     ect = True              ham : spam   =    106.9 : 1.0\n",
            "                    spam = True             spam : ham    =     90.1 : 1.0\n",
            "                  health = True             spam : ham    =     87.0 : 1.0\n",
            "                featured = True             spam : ham    =     74.5 : 1.0\n",
            "              nomination = True              ham : spam   =     73.9 : 1.0\n",
            "                  differ = True             spam : ham    =     71.3 : 1.0\n",
            "             medications = True             spam : ham    =     66.6 : 1.0\n",
            "                  weight = True             spam : ham    =     65.1 : 1.0\n",
            "             subscribers = True             spam : ham    =     65.1 : 1.0\n",
            "            solicitation = True             spam : ham    =     60.4 : 1.0\n",
            "                  shares = True             spam : ham    =     60.4 : 1.0\n",
            "                congress = True             spam : ham    =     58.8 : 1.0\n",
            "                   epson = True             spam : ham    =     58.8 : 1.0\n",
            "                      cc = True              ham : spam   =     57.5 : 1.0\n",
            "                inherent = True             spam : ham    =     57.2 : 1.0\n",
            "                     pro = True             spam : ham    =     55.7 : 1.0\n",
            "             legislation = True             spam : ham    =     55.7 : 1.0\n",
            "                conflict = True             spam : ham    =     55.7 : 1.0\n",
            "                   cheap = True             spam : ham    =     50.3 : 1.0\n",
            "                 doctors = True             spam : ham    =     49.4 : 1.0\n",
            "                 foresee = True             spam : ham    =     49.4 : 1.0\n",
            "                 dealers = True             spam : ham    =     49.4 : 1.0\n",
            "                thousand = True             spam : ham    =     48.4 : 1.0\n",
            "                    2005 = True             spam : ham    =     48.4 : 1.0\n",
            "                 advises = True             spam : ham    =     47.8 : 1.0\n",
            "                    draw = True             spam : ham    =     47.8 : 1.0\n",
            "               thousands = True             spam : ham    =     47.8 : 1.0\n",
            "                    anti = True             spam : ham    =     44.7 : 1.0\n",
            "                 beliefs = True             spam : ham    =     43.1 : 1.0\n",
            "                      ex = True             spam : ham    =     41.9 : 1.0\n",
            "                    lisa = True              ham : spam   =     41.5 : 1.0\n",
            "                   risks = True             spam : ham    =     40.9 : 1.0\n",
            "                   steve = True              ham : spam   =     40.4 : 1.0\n",
            "                   penis = True             spam : ham    =     40.0 : 1.0\n",
            "                      br = True             spam : ham    =     40.0 : 1.0\n",
            "                   susan = True              ham : spam   =     39.3 : 1.0\n",
            "                     ibm = True             spam : ham    =     39.0 : 1.0\n",
            "                  proven = True             spam : ham    =     38.4 : 1.0\n",
            "                   adobe = True             spam : ham    =     38.1 : 1.0\n",
            "                  farmer = True              ham : spam   =     38.0 : 1.0\n",
            "                       u = True             spam : ham    =     38.0 : 1.0\n",
            "                     fda = True             spam : ham    =     36.8 : 1.0\n",
            "                     sum = True             spam : ham    =     36.8 : 1.0\n",
            "                 explode = True             spam : ham    =     36.8 : 1.0\n"
          ]
        }
      ]
    },
    {
      "cell_type": "markdown",
      "metadata": {
        "id": "39b_hoGVnjS1"
      },
      "source": [
        "As you can see, many spam emails in this dataset are related to medications,\n",
        "which shows a particular bias – the most typical spam that you personally get might be on a different topic altogether! What effect might this mismatch between the training data from the publicly available dataset like Enron and your personal data have?\n",
        "\n",
        "One other piece of information presented in this output is accuracy. Test accuracy shows the proportion of test emails that are correctly classified by Naïve Bayes among all test emails.\n",
        "\n",
        "Note, that since the classifier is trained on the training data, it actually gets to “see” all the correct labels for the training examples. \n",
        "\n",
        "Shouldn’t it then know the correct answers and perform at 100% accuracy on the training data?\n",
        "\n",
        "Well, the point here is that the classifier doesn’t just\n",
        "retrieve the correct answers: during training it has built some probabilistic model (i.e., learned about the distribution of classes and the probability of different features), and then it applies this model to the data. So, it is actually very likely that the probabilistic model doesn’t capture all the things in the data 100% correctly.\n",
        "\n",
        "Therefore, when you run the code above, you will get accuracy on the training data of `96.13%`. This is not perfect (i.e., not `100%`) but very close to it! When you apply the same classifier to new data – the test set that the classifier hasn’t seen during training – the accuracy reflects its generalizing ability. That is, it shows whether the probabilistic assumptions it made based on the training data can be successfully applied to any other data. The accuracy on the test set is `94.20%`, which is slightly lower than that on the training set, but is also very high.\n",
        "\n",
        "Finally, if you’d like to gain any further insight into how the words are used in the emails from different classes, you can also check the occurrences of any particular word in all available contexts.\n",
        "\n",
        "For example, word “stocks” features as a very strong predictor of spam\n",
        "messages. Why is that? You might be thinking, “OK, some emails containing “stocks” will be spam, but surely there must be contexts where “stocks” is used in a completely harmless way?”"
      ]
    },
    {
      "cell_type": "code",
      "metadata": {
        "id": "QyH5N-6NqeWt"
      },
      "source": [
        "def concordance(data_list, search_word):\n",
        "  for email in data_list:\n",
        "    word_list = [word for word in word_tokenize(email.lower())]\n",
        "    text_list = Text(word_list)\n",
        "\n",
        "    \"\"\"\n",
        "    “Concordancer” is a tool that checks for the occurrences of the specified word and prints out the word in\n",
        "    its context. By default, NLTK’s concordancer prints out the search_word surrounded by the previous\n",
        "    36 and the following 36 characters – so note, that it doesn’t always result in full words\n",
        "    \"\"\"\n",
        "    if search_word in word_list:\n",
        "      text_list.concordance(search_word)"
      ],
      "execution_count": 21,
      "outputs": []
    },
    {
      "cell_type": "code",
      "metadata": {
        "id": "Ymrq-3u8rY7K",
        "colab": {
          "base_uri": "https://localhost:8080/"
        },
        "outputId": "5b55d6bd-2264-493e-e0d7-4d6400c949e8"
      },
      "source": [
        "# Apply this function to two lists – ham_list and spam_list – to find out about the different contexts of use for the word “stocks”\n",
        "print(\"STOCKS in HAM:\")\n",
        "concordance(ham_list, \"stocks\")\n",
        "print(\"\\n\\nSTOCKS in SPAM:\")\n",
        "concordance(spam_list, \"stocks\")"
      ],
      "execution_count": 22,
      "outputs": [
        {
          "output_type": "stream",
          "name": "stdout",
          "text": [
            "STOCKS in HAM:\n",
            "Displaying 1 of 1 matches:\n",
            "ur member directory . * follow your stocks and news headlines , exchange files\n",
            "Displaying 1 of 1 matches:\n",
            "ur member directory . * follow your stocks and news headlines , exchange files\n",
            "Displaying 1 of 1 matches:\n",
            "ad my portfolio is diversified into stocks that have lost even more money than\n",
            "Displaying 1 of 1 matches:\n",
            "ur member directory . * follow your stocks and news headlines , exchange files\n",
            "\n",
            "\n",
            "STOCKS in SPAM:\n",
            "Displaying 5 of 5 matches:\n",
            "5 where were you when the following stocks exploded : scos : exploded from . 3\n",
            "d . 80 on friday . face it . little stocks can mean big gains for you . this r\n",
            "might occur . as with many microcap stocks , today ' s company has additional \n",
            "his email pertaining to investing , stocks , securities must be understood as \n",
            "ntative before deciding to trade in stocks featured within this report . none \n",
            "Displaying 4 of 4 matches:\n",
            "hree days . play of the week tracks stocks on downward trends , foresees botto\n",
            "mark is our uncanny ability to spot stocks that have bottomed - out and antici\n",
            "ound and upward trend . most of the stocks we track rebound and peak within ju\n",
            "om third party . investing in penny stocks is high risk and you should seek pr\n",
            "Displaying 4 of 4 matches:\n",
            " the last 12 months , many of these stocks made triple and even quadruple retu\n",
            " statements . as with many microcap stocks , today ' s company has additiona |\n",
            "is report pertaining to investing , stocks , securities must be understood as \n",
            "ntative before deciding to trade in stocks featured within this report . none \n",
            "Displaying 2 of 2 matches:\n",
            " % on regular price we have massive stocks of drugs for same day dispatch fast\n",
            "e do have the lowest price and huge stocks ready for same - day dispatch . two\n",
            "Displaying 3 of 3 matches:\n",
            "might occur . as with many microcap stocks , today ' s company has additional \n",
            "is emai | pertaining to investing , stocks , securities must be understood as \n",
            "ntative before deciding to trade in stocks featured within this emai | . none \n",
            "Displaying 3 of 3 matches:\n",
            "torage inc. play of the week tracks stocks on downward trends , foresees botto\n",
            "his email pertaining to investing , stocks , securities must be understood as \n",
            "ntative before deciding to trade in stocks featured within this email . none o\n",
            "Displaying 2 of 2 matches:\n",
            " the last 12 months , many of these stocks made tripie and even quadruple retu\n",
            "one trade tuesday ! go mogi . penny stocks are considered highly speculative a\n",
            "Displaying 4 of 4 matches:\n",
            "k tuesday some of these littie voip stocks have been reaily moving lateiy . an\n",
            " statements . as with many microcap stocks , today ' s company has additional \n",
            "is report pertaining to investing , stocks , securities must be understood as \n",
            "ntative before deciding to trade in stocks featured within this report . none \n",
            "Displaying 3 of 3 matches:\n",
            "might occur . as with many microcap stocks , today ' s company has additiona |\n",
            "his email pertaining to investing , stocks , securities must be understood as \n",
            "ntative before deciding to trade in stocks featured within this email . none o\n",
            "Displaying 1 of 1 matches:\n",
            "scovering value in natural resource stocks elgin resources ( elr - tsx ) extra\n",
            "Displaying 4 of 4 matches:\n",
            "                                    stocks alert newsletter must read - alert \n",
            "his email pertaining to investing , stocks , securities must be understood as \n",
            "ntative before deciding to trade in stocks featured within this email . none o\n",
            " lose money from investing in penny stocks . - - - - - - - - - - - - - - - - -\n",
            "Displaying 1 of 1 matches:\n",
            " one trade monday ! go wysk . penny stocks are considered highiy specuiative a\n",
            "Displaying 1 of 1 matches:\n",
            "ne trade thursday ! go fcdh . penny stocks are considered highiy specuiative a\n",
            "Displaying 1 of 1 matches:\n",
            "                                    stocks for immediate breakout erhc and exx\n",
            "Displaying 1 of 1 matches:\n",
            " one trade monday ! go ndin . penny stocks are considered highly speculative a\n",
            "Displaying 1 of 1 matches:\n",
            "the | ast 12 months , many of these stocks made triple and even quadruple retu\n",
            "Displaying 4 of 4 matches:\n",
            "his email pertaining to investing , stocks , securities must be understood as \n",
            "ntative before deciding to trade in stocks featured within this email . none o\n",
            "eep in mind that when trading small stocks like the company above there is a c\n",
            "t professional before investing any stocks or mutual funds .\n",
            "Displaying 2 of 2 matches:\n",
            "his email pertaining to investing , stocks , securities must be understood as \n",
            "ntative before deciding to trade in stocks featured within this email . none o\n",
            "Displaying 4 of 4 matches:\n",
            "ck monday some of these little voip stocks have been rea | | y moving lately .\n",
            " statements . as with many microcap stocks , today ' s company has additiona |\n",
            "is report pertaining to investing , stocks , securities must be understood as \n",
            "ntative before deciding to trade in stocks featured within this report . none \n",
            "Displaying 2 of 2 matches:\n",
            " % on regular price we have massive stocks of drugs for same day dispatch fast\n",
            "e do have the lowest price and huge stocks ready for same - day dispatch . two\n",
            "Displaying 6 of 6 matches:\n",
            " if you knew about these low priced stocks : otcbb : zapz : closed march 31 st\n",
            " following points : * many of these stocks are undiscovered and uncovered ! wh\n",
            " ! ! * * many of these undiscovered stocks are like coiled springs , wound tig\n",
            "might occur . as with many microcap stocks , today ' s company has additional \n",
            "his email pertaining to investing , stocks , securities must be understood as \n",
            "ntative before deciding to trade in stocks featured within this email . none o\n",
            "Displaying 1 of 1 matches:\n",
            " one trade monday ! go wysk . penny stocks are considered highiy speculative a\n",
            "Displaying 1 of 1 matches:\n",
            "s obtained . investing in micro cap stocks is extremely risky and , investors \n",
            "Displaying 1 of 1 matches:\n",
            "cautions that small and micro - cap stocks are high - risk investments and tha\n",
            "Displaying 4 of 4 matches:\n",
            "watch this one trade . these little stocks can surprise in a big way sometimes\n",
            "might occur . as with many microcap stocks , today ' s company has additional \n",
            "his email pertaining to investing , stocks , securities must be understood as \n",
            "ntative before deciding to trade in stocks featured within this email . none o\n",
            "Displaying 4 of 4 matches:\n",
            "his email pertaining to investing , stocks , securities must be understood as \n",
            "ntative before deciding to trade in stocks featured within this email . none o\n",
            "eep in mind that when trading small stocks like the company above there is a c\n",
            "t professional before investing any stocks or mutual funds .\n",
            "Displaying 5 of 5 matches:\n",
            "ck monday some of these littie voip stocks have been really moving lately . an\n",
            "t can happen with these sma | | cap stocks when they take off . and it happens\n",
            " statements . as with many microcap stocks , today ' s company has additiona |\n",
            "is report pertaining to investing , stocks , securities must be understood as \n",
            "ntative before deciding to trade in stocks featured within this report . none \n",
            "Displaying 3 of 3 matches:\n",
            "5 how many times have you seen good stocks but you couldn ' t get your hands o\n",
            "his email pertaining to investing , stocks , securities must be understood as \n",
            "ntative before deciding to trade in stocks featured within this email . none o\n",
            "Displaying 1 of 1 matches:\n",
            "or information puposes only . penny stocks are considered highly speculative a\n",
            "Displaying 4 of 4 matches:\n",
            "n this stock . some of these smal | stocks are absoiuteiy fiying , as many of \n",
            " statements . as with many microcap stocks , todays company has additional ris\n",
            "biication pertaining to investing , stocks , securities must be understood as \n",
            "ntative before deciding to trade in stocks featured within this publication . \n",
            "Displaying 3 of 3 matches:\n",
            "might occur . as with many microcap stocks , today ' s company has additiona |\n",
            "is emai | pertaining to investing , stocks , securities must be understood as \n",
            "ntative before deciding to trade in stocks featured within this emai | . none \n",
            "Displaying 6 of 6 matches:\n",
            "hem : ( big money was made in these stocks by savvy investors who timed them r\n",
            "g filthy , stinking ri ' ch in tiny stocks no one has ever heard of until now \n",
            "ynamic things . some of these small stocks have absolutely exploded in price r\n",
            "'' occur . as with many micro - cap stocks , today ' s company has additional \n",
            " ema - il pertaining to investing , stocks or securities must be understood as\n",
            "ntative before deciding to trade in stocks featured within this ema - il . non\n",
            "Displaying 3 of 3 matches:\n",
            "                                    stocks newsletter first we would like to s\n",
            "his email pertaining to investing , stocks , securities must be understood as \n",
            "ntative before deciding to trade in stocks featured within this email . none o\n",
            "Displaying 3 of 3 matches:\n",
            " statements . as with many microcap stocks , todays company has additional ris\n",
            "blication pertaining to investing , stocks , securities must be understood as \n",
            "ntative before deciding to trade in stocks featured within this publication . \n",
            "Displaying 1 of 1 matches:\n",
            "_ _ _ _ _ _ _ _ _ _ _ _ _ _ penny - stocks are considered highly speculative a\n",
            "Displaying 1 of 1 matches:\n",
            "cautions that small and micro - cap stocks are high - risk investments and tha\n",
            "Displaying 1 of 1 matches:\n",
            "fessionally not multi - level - not stocks - not real estate no cost tele - se\n",
            "Displaying 3 of 3 matches:\n",
            " plays . widespread gains in energy stocks are inflating the portfolios of agg\n",
            "st levels of the year , with energy stocks outperforming all other market sect\n",
            "utions that sma | | and micro - cap stocks are high - risk investments and tha\n",
            "Displaying 2 of 2 matches:\n",
            "his email pertaining to investing , stocks , securities must be understood as \n",
            "ntative before deciding to trade in stocks featured within this email . none o\n",
            "Displaying 3 of 3 matches:\n",
            " statements . as with many microcap stocks , today ' s company has additiona |\n",
            "is report pertaining to investing , stocks , securities must be understood as \n",
            "ntative before deciding to trade in stocks featured within this report . none \n",
            "Displaying 4 of 4 matches:\n",
            "y agree , some , not all , of these stocks move in price because they are prom\n",
            "tands or that as with many microcap stocks , today ' s company has additional \n",
            "is report pertaining to investing , stocks , securities must be understood as \n",
            "ntative before deciding to trade in stocks featured within this report . none \n",
            "Displaying 3 of 3 matches:\n",
            "might occur . as with many microcap stocks , today ' s company has additiona |\n",
            "is emai | pertaining to investing , stocks , securities must be understood as \n",
            "ntative before deciding to trade in stocks featured within this email . none o\n",
            "Displaying 2 of 2 matches:\n",
            "ck monday some of these little voip stocks have been realiy moving lately . an\n",
            " one trade monday ! go ypil . penny stocks are considered highiy specuiative a\n",
            "Displaying 2 of 2 matches:\n",
            "                                    stocks are about timing nomad internationa\n",
            " one trade friday ! go ndin . penny stocks are considered highiy speculative a\n",
            "Displaying 4 of 4 matches:\n",
            "                                    stocks newsletter u r g e n t i n v e s t \n",
            "ht occur . as with many micro - cap stocks , today ' s company has additional \n",
            "his email pertaining to investing , stocks , securities must be understood as \n",
            "ntative before deciding to trade in stocks featured within this email . none o\n",
            "Displaying 1 of 1 matches:\n",
            " the last 12 months , many of these stocks made tripie and even quadruple retu\n",
            "Displaying 1 of 1 matches:\n",
            "                                    stocks traders ' monthly alert january pic\n",
            "Displaying 3 of 3 matches:\n",
            "might occur . as with many microcap stocks , today ' s company has additiona |\n",
            "is emai | pertaining to investing , stocks , securities must be understood as \n",
            "ntative before deciding to trade in stocks featured within this email . none o\n",
            "Displaying 3 of 3 matches:\n",
            "his email pertaining to investing , stocks , securities must be understood as \n",
            "ntative before deciding to trade in stocks featured within this email . none o\n",
            " lose money from investing in penny stocks . if you wish to stop future mailin\n",
            "Displaying 5 of 5 matches:\n",
            "hursday ! some of these littie voip stocks have been realiy moving lateiy . an\n",
            "t can happen with these sma | | cap stocks when they take off . and it happens\n",
            " statements . as with many microcap stocks , today ' s company has additiona |\n",
            "is report pertaining to investing , stocks , securities must be understood as \n",
            "ntative before deciding to trade in stocks featured within this report . none \n",
            "Displaying 1 of 1 matches:\n",
            "                                    stocks available . vlagr @ . x _ a _ nax .\n",
            "Displaying 1 of 1 matches:\n",
            "dge - ksige are you tired of buying stocks and not having them perform ? our s\n",
            "Displaying 2 of 2 matches:\n",
            "his email pertaining to investing , stocks , securities must be understood as \n",
            "ntative before deciding to trade in stocks featured within this email . none o\n",
            "Displaying 3 of 3 matches:\n",
            "n how many times have you seen good stocks but you couldn ' t get your hands o\n",
            "his email pertaining to investing , stocks , securities must be understood as \n",
            "ntative before deciding to trade in stocks featured within this email . none o\n",
            "Displaying 2 of 2 matches:\n",
            "his email pertaining to investing , stocks , securities must be understood as \n",
            "ntative before deciding to trade in stocks featured within this email . none o\n",
            "Displaying 1 of 1 matches:\n",
            "in apple investments , inc profiled stocks . in order to be in full compliance\n",
            "Displaying 3 of 3 matches:\n",
            " statements . as with many microcap stocks , todays company has additional ris\n",
            "blication pertaining to investing , stocks , securities must be understood as \n",
            "ntative before deciding to trade in stocks featured within this publication . \n",
            "Displaying 2 of 2 matches:\n",
            "ng their gains . select gold mining stocks are the hot flyers of the otc . his\n",
            "is letter cautions that micro - cap stocks are high - risk investments and tha\n",
            "Displaying 2 of 2 matches:\n",
            "ims and do your own due diligence . stocks to play ( s 2 p ) profiles are not \n",
            "s obtained . investing in micro cap stocks is extremely risky and , investors \n",
            "Displaying 2 of 2 matches:\n",
            "his email pertaining to investing , stocks , securities must be understood as \n",
            "ntative before deciding to trade in stocks featured within this emai | . none \n",
            "Displaying 2 of 2 matches:\n",
            " % on regular price we have massive stocks of drugs for same day dispatch fast\n",
            "e do have the lowest price and huge stocks ready for same - day dispatch . two\n",
            "Displaying 2 of 2 matches:\n",
            "rt identifying defense and security stocks ready to explode look at the moves \n",
            " actual exchanges where small - cap stocks are traded . silica stopband doorkn\n",
            "Displaying 2 of 2 matches:\n",
            "is emai | pertaining to investing , stocks , securities must be understood as \n",
            "ntative before deciding to trade in stocks featured within this email . none o\n",
            "Displaying 3 of 3 matches:\n",
            "ancements but may be one of the few stocks left in this industry group that is\n",
            "his email pertaining to investing , stocks , securities must be understood as \n",
            "ntative before deciding to trade in stocks featured within this email . none o\n",
            "Displaying 1 of 1 matches:\n",
            " one trade monday ! go wysk . penny stocks are considered highiy specuiative a\n",
            "Displaying 2 of 2 matches:\n",
            "ck monday some of these little voip stocks have been really moving lately . an\n",
            " one trade monday ! go ypil . penny stocks are considered highiy specuiative a\n"
          ]
        }
      ]
    },
    {
      "cell_type": "markdown",
      "metadata": {
        "id": "--qXDNH9sHZv"
      },
      "source": [
        "If you run this code and print out the contexts for “stocks”, you will find out that “stocks” feature in only 4 ham contexts (e.g., an email reminder “Follow your stocks and news headlines”) as compared to hundreds of spam contexts including “Stocks to play”, “Big money was made in these stocks”, “Select gold mining stocks”, “Little stocks can mean big gains for you”, and so on."
      ]
    },
    {
      "cell_type": "markdown",
      "metadata": {
        "id": "gz0WQV_U2fwf"
      },
      "source": [
        "##Deploying your spam filter in practice"
      ]
    },
    {
      "cell_type": "markdown",
      "metadata": {
        "id": "-u9QgqEh22Vj"
      },
      "source": [
        "For instance, the classifier that you’ve built performs at 94% accuracy, so\n",
        "you can expect it to classify real emails into spam and ham quite accurately. It’s time to deploy it in practice then. When you run it on some new emails (perhaps, some from your own inbox) you need to perform the same steps on these emails as before, that is:\n",
        "\n",
        "- you need to read them in, then\n",
        "- you need to extract the features from these emails, and finally\n",
        "- you need to apply the classifier that you trained before on these emails."
      ]
    },
    {
      "cell_type": "code",
      "metadata": {
        "id": "F-cCEfxsv5oe",
        "colab": {
          "base_uri": "https://localhost:8080/"
        },
        "outputId": "2b19b671-1a4b-45e6-9fdc-c6b1fb233905"
      },
      "source": [
        "# Feel free to provide your own examples\n",
        "test_spam_list = [\n",
        "  \"Participate in our new lottery!\",\n",
        "  \"Try out this new medicine\"\n",
        "]\n",
        "test_ham_list = [\n",
        "  \"See the minutes from the last meeting attached\", \n",
        "  \"Investors are coming to our office on Monday\"\n",
        "]\n",
        "\n",
        "# Read the emails extracting their textual content and keeping the labels for further evaluation\n",
        "test_emails = [(email_content, \"spam\") for email_content in test_spam_list]\n",
        "test_emails += [(email_content, \"ham\") for email_content in test_ham_list]\n",
        "\n",
        "# Extract the features\n",
        "new_test_set = [(get_features(email), label) for (email, label) in test_emails]\n",
        "\n",
        "# Apply the trained classifier and evaluate its performance\n",
        "evaluate(train_set, new_test_set, classifier)"
      ],
      "execution_count": 23,
      "outputs": [
        {
          "output_type": "stream",
          "name": "stdout",
          "text": [
            "Accuracy on the training set = 0.95987430505197\n",
            "Accuracy of the test set = 1.0\n",
            "Most Informative Features\n",
            "               forwarded = True              ham : spam   =    204.3 : 1.0\n",
            "                    2004 = True             spam : ham    =    141.9 : 1.0\n",
            "                    2001 = True              ham : spam   =    130.8 : 1.0\n",
            "            prescription = True             spam : ham    =    127.8 : 1.0\n",
            "                     nom = True              ham : spam   =    125.5 : 1.0\n",
            "                    pain = True             spam : ham    =    107.4 : 1.0\n",
            "                     ect = True              ham : spam   =    106.9 : 1.0\n",
            "                    spam = True             spam : ham    =     90.1 : 1.0\n",
            "                  health = True             spam : ham    =     87.0 : 1.0\n",
            "                featured = True             spam : ham    =     74.5 : 1.0\n",
            "              nomination = True              ham : spam   =     73.9 : 1.0\n",
            "                  differ = True             spam : ham    =     71.3 : 1.0\n",
            "             medications = True             spam : ham    =     66.6 : 1.0\n",
            "                  weight = True             spam : ham    =     65.1 : 1.0\n",
            "             subscribers = True             spam : ham    =     65.1 : 1.0\n",
            "            solicitation = True             spam : ham    =     60.4 : 1.0\n",
            "                  shares = True             spam : ham    =     60.4 : 1.0\n",
            "                congress = True             spam : ham    =     58.8 : 1.0\n",
            "                   epson = True             spam : ham    =     58.8 : 1.0\n",
            "                      cc = True              ham : spam   =     57.5 : 1.0\n",
            "                inherent = True             spam : ham    =     57.2 : 1.0\n",
            "                     pro = True             spam : ham    =     55.7 : 1.0\n",
            "             legislation = True             spam : ham    =     55.7 : 1.0\n",
            "                conflict = True             spam : ham    =     55.7 : 1.0\n",
            "                   cheap = True             spam : ham    =     50.3 : 1.0\n",
            "                 doctors = True             spam : ham    =     49.4 : 1.0\n",
            "                 foresee = True             spam : ham    =     49.4 : 1.0\n",
            "                 dealers = True             spam : ham    =     49.4 : 1.0\n",
            "                thousand = True             spam : ham    =     48.4 : 1.0\n",
            "                    2005 = True             spam : ham    =     48.4 : 1.0\n",
            "                 advises = True             spam : ham    =     47.8 : 1.0\n",
            "                    draw = True             spam : ham    =     47.8 : 1.0\n",
            "               thousands = True             spam : ham    =     47.8 : 1.0\n",
            "                    anti = True             spam : ham    =     44.7 : 1.0\n",
            "                 beliefs = True             spam : ham    =     43.1 : 1.0\n",
            "                      ex = True             spam : ham    =     41.9 : 1.0\n",
            "                    lisa = True              ham : spam   =     41.5 : 1.0\n",
            "                   risks = True             spam : ham    =     40.9 : 1.0\n",
            "                   steve = True              ham : spam   =     40.4 : 1.0\n",
            "                   penis = True             spam : ham    =     40.0 : 1.0\n",
            "                      br = True             spam : ham    =     40.0 : 1.0\n",
            "                   susan = True              ham : spam   =     39.3 : 1.0\n",
            "                     ibm = True             spam : ham    =     39.0 : 1.0\n",
            "                  proven = True             spam : ham    =     38.4 : 1.0\n",
            "                   adobe = True             spam : ham    =     38.1 : 1.0\n",
            "                  farmer = True              ham : spam   =     38.0 : 1.0\n",
            "                       u = True             spam : ham    =     38.0 : 1.0\n",
            "                     fda = True             spam : ham    =     36.8 : 1.0\n",
            "                     sum = True             spam : ham    =     36.8 : 1.0\n",
            "                 explode = True             spam : ham    =     36.8 : 1.0\n"
          ]
        }
      ]
    },
    {
      "cell_type": "markdown",
      "metadata": {
        "id": "ChhXSUUsxT0x"
      },
      "source": [
        "The classifier that you’ve trained performs with 100% accuracy on these examples. Good! How can you print out the predicted label for each particular email though?\n",
        "\n",
        "For that, you simply extract the features from the email content and print out the label, i.e. you don’t need to run the full evaluation with the accuracy calculation.\n"
      ]
    },
    {
      "cell_type": "code",
      "metadata": {
        "id": "P2T18c4TxX6B",
        "colab": {
          "base_uri": "https://localhost:8080/"
        },
        "outputId": "20d24ec3-db10-4e73-b5cf-5a3768a7ec0d"
      },
      "source": [
        "for email in test_spam_list:\n",
        "  print(email)\n",
        "  print(classifier.classify(get_features(email)))\n",
        "\n",
        "for email in test_ham_list:\n",
        "  print(email)\n",
        "  print(classifier.classify(get_features(email)))"
      ],
      "execution_count": 24,
      "outputs": [
        {
          "output_type": "stream",
          "name": "stdout",
          "text": [
            "Participate in our new lottery!\n",
            "spam\n",
            "Try out this new medicine\n",
            "spam\n",
            "See the minutes from the last meeting attached\n",
            "ham\n",
            "Investors are coming to our office on Monday\n",
            "ham\n"
          ]
        }
      ]
    },
    {
      "cell_type": "markdown",
      "metadata": {
        "id": "4QYrJ0Gx55yj"
      },
      "source": [
        "Let’s summarize what you have covered.\n",
        "\n",
        "You have learned how build a classifier in five steps:\n",
        "\n",
        "1. the emails should be read, and the two classes should be clearly defined for the machine to learn from.\n",
        "2. the text content should be extracted.\n",
        "3. then the content should be converted into features.\n",
        "4. the classifier should be trained on the training set of the data.\n",
        "5. finally, the classifier should be evaluated on the test set\n",
        "\n",
        "There are a number of machine learning classifiers, and you’ve applied one of the most interpretable of them – Naïve Bayes. Naïve Bayes is a probabilistic\n",
        "classifier: it assumes that the data in two classes is generated by different probability distributions, which are learned from the training data. Despite its simplicity and “naïve” feature independence assumption, Naïve Bayes often performs well in practice, and sets competitive baseline for other more sophisticated algorithms.\n",
        "\n"
      ]
    },
    {
      "cell_type": "markdown",
      "metadata": {
        "id": "8Wh2UkX7_mys"
      },
      "source": [
        "##Assignment"
      ]
    },
    {
      "cell_type": "markdown",
      "metadata": {
        "id": "nH1v2Ov9_n_R"
      },
      "source": [
        "Apply the trained classifier to a different dataset, for example to `enron2/spam` and ham emails that originate with a different owner (check `Summary.txt` for more information). For that you need to:\n",
        "\n",
        "- read the data from the `spam/` and `ham/` subfolders in `enron2/`\n",
        "- extract the textual content and convert it into features\n",
        "- evaluate the classifier\n",
        "\n",
        "What do the results suggest? \n",
        "\n",
        "Hint: one man’s spam may be another man’s ham. If you are not satisfied with the results, try combining the data from the two owners in one dataset."
      ]
    },
    {
      "cell_type": "code",
      "metadata": {
        "id": "-pMDWBPQCnbV",
        "outputId": "7be34e2d-b575-4342-c640-40e5f6f84249",
        "colab": {
          "base_uri": "https://localhost:8080/"
        }
      },
      "source": [
        "test_spam_list = read_files(\"enron2/spam/\")\n",
        "print(len(test_spam_list))\n",
        "print(test_spam_list[0])\n",
        "\n",
        "test_ham_list = read_files(\"enron2/ham/\")\n",
        "print(len(test_ham_list))\n",
        "print(test_ham_list[0])\n",
        "\n",
        "test_emails = [(email_content, \"spam\") for email_content in test_spam_list]\n",
        "test_emails += [(email_content, \"ham\") for email_content in test_ham_list]\n",
        "\n",
        "random.shuffle(test_emails)\n",
        "\n",
        "new_test_set = [(get_features(email_content), label) for email_content, label in test_emails]\n",
        "\n",
        "evaluate(train_set, new_test_set, classifier)"
      ],
      "execution_count": 26,
      "outputs": [
        {
          "output_type": "stream",
          "name": "stdout",
          "text": [
            "1496\n",
            "Subject: help\r\n",
            "Television in 1919 by seat to my knoweledge. Chrono cross in 1969\n",
            "4361\n",
            "Subject: re: eol\r\n",
            "Clayton,\r\n",
            "Great news. I would like to sit down with you, tom and stinson and review\r\n",
            "Where\r\n",
            "We are with this project. Also, I would like to talk to you about your\r\n",
            "Status (finalizing\r\n",
            "The transfer to another group).\r\n",
            "Vince\r\n",
            "Clayton vernon@ enron\r\n",
            "01/18/2001 03: 21 pm\r\n",
            "To: vasant shanbhogue/hou/ect@ ect\r\n",
            "Cc: stinson gibner/hou/ect@ ect, vince j kaminski/hou/ect@ ect\r\n",
            "Subject: eol\r\n",
            "Vasant -\r\n",
            "Dave delaney called an hour ago. He needed a statistic from eol that the eol\r\n",
            "Folks couldn' t give him (it seems they had a database problem in 1999), and\r\n",
            "The grapevine had it we had the data. Tom barkley was able to give him the\r\n",
            "Data he needed for his presentation, within a matter of 10 minutes or so.\r\n",
            "Clayton\n",
            "Accuracy on the training set = 0.95987430505197\n",
            "Accuracy of the test set = 0.7611405156223322\n",
            "Most Informative Features\n",
            "               forwarded = True              ham : spam   =    204.3 : 1.0\n",
            "                    2004 = True             spam : ham    =    141.9 : 1.0\n",
            "                    2001 = True              ham : spam   =    130.8 : 1.0\n",
            "            prescription = True             spam : ham    =    127.8 : 1.0\n",
            "                     nom = True              ham : spam   =    125.5 : 1.0\n",
            "                    pain = True             spam : ham    =    107.4 : 1.0\n",
            "                     ect = True              ham : spam   =    106.9 : 1.0\n",
            "                    spam = True             spam : ham    =     90.1 : 1.0\n",
            "                  health = True             spam : ham    =     87.0 : 1.0\n",
            "                featured = True             spam : ham    =     74.5 : 1.0\n",
            "              nomination = True              ham : spam   =     73.9 : 1.0\n",
            "                  differ = True             spam : ham    =     71.3 : 1.0\n",
            "             medications = True             spam : ham    =     66.6 : 1.0\n",
            "                  weight = True             spam : ham    =     65.1 : 1.0\n",
            "             subscribers = True             spam : ham    =     65.1 : 1.0\n",
            "            solicitation = True             spam : ham    =     60.4 : 1.0\n",
            "                  shares = True             spam : ham    =     60.4 : 1.0\n",
            "                congress = True             spam : ham    =     58.8 : 1.0\n",
            "                   epson = True             spam : ham    =     58.8 : 1.0\n",
            "                      cc = True              ham : spam   =     57.5 : 1.0\n",
            "                inherent = True             spam : ham    =     57.2 : 1.0\n",
            "                     pro = True             spam : ham    =     55.7 : 1.0\n",
            "             legislation = True             spam : ham    =     55.7 : 1.0\n",
            "                conflict = True             spam : ham    =     55.7 : 1.0\n",
            "                   cheap = True             spam : ham    =     50.3 : 1.0\n",
            "                 doctors = True             spam : ham    =     49.4 : 1.0\n",
            "                 foresee = True             spam : ham    =     49.4 : 1.0\n",
            "                 dealers = True             spam : ham    =     49.4 : 1.0\n",
            "                thousand = True             spam : ham    =     48.4 : 1.0\n",
            "                    2005 = True             spam : ham    =     48.4 : 1.0\n",
            "                 advises = True             spam : ham    =     47.8 : 1.0\n",
            "                    draw = True             spam : ham    =     47.8 : 1.0\n",
            "               thousands = True             spam : ham    =     47.8 : 1.0\n",
            "                    anti = True             spam : ham    =     44.7 : 1.0\n",
            "                 beliefs = True             spam : ham    =     43.1 : 1.0\n",
            "                      ex = True             spam : ham    =     41.9 : 1.0\n",
            "                    lisa = True              ham : spam   =     41.5 : 1.0\n",
            "                   risks = True             spam : ham    =     40.9 : 1.0\n",
            "                   steve = True              ham : spam   =     40.4 : 1.0\n",
            "                   penis = True             spam : ham    =     40.0 : 1.0\n",
            "                      br = True             spam : ham    =     40.0 : 1.0\n",
            "                   susan = True              ham : spam   =     39.3 : 1.0\n",
            "                     ibm = True             spam : ham    =     39.0 : 1.0\n",
            "                  proven = True             spam : ham    =     38.4 : 1.0\n",
            "                   adobe = True             spam : ham    =     38.1 : 1.0\n",
            "                  farmer = True              ham : spam   =     38.0 : 1.0\n",
            "                       u = True             spam : ham    =     38.0 : 1.0\n",
            "                     fda = True             spam : ham    =     36.8 : 1.0\n",
            "                     sum = True             spam : ham    =     36.8 : 1.0\n",
            "                 explode = True             spam : ham    =     36.8 : 1.0\n"
          ]
        }
      ]
    },
    {
      "cell_type": "markdown",
      "metadata": {
        "id": "K6hkaZgTDu5H"
      },
      "source": [
        "Now, we will combine the two datasets."
      ]
    },
    {
      "cell_type": "code",
      "metadata": {
        "id": "agOxYfS6D0O2",
        "outputId": "092877c9-e590-4145-ba2d-0c16ffbcdf99",
        "colab": {
          "base_uri": "https://localhost:8080/"
        }
      },
      "source": [
        "spam_list = read_files(\"enron1/spam/\") + read_files(\"enron2/spam/\")\n",
        "print(len(spam_list))\n",
        "\n",
        "ham_list = read_files(\"enron1/ham/\") + read_files(\"enron2/ham/\")\n",
        "print(len(ham_list))\n",
        "\n",
        "all_emails = [(email_content, \"spam\") for email_content in spam_list]\n",
        "all_emails += [(email_content, \"ham\") for email_content in ham_list]\n",
        "\n",
        "random.shuffle(test_emails)\n",
        "\n",
        "all_features = [(get_features(email_content), label) for email_content, label in all_emails]\n",
        "print(len(all_features))\n",
        "\n",
        "train_set, test_set, classifier = train(all_features, 0.8)\n",
        "evaluate(train_set, new_test_set, classifier)"
      ],
      "execution_count": 27,
      "outputs": [
        {
          "output_type": "stream",
          "name": "stdout",
          "text": [
            "2996\n",
            "8033\n",
            "11029\n",
            "Training set size = 8823 emails\n",
            "Test set size = 2206 emails\n",
            "Accuracy on the training set = 0.9818655786013828\n",
            "Accuracy of the test set = 0.9820727334813044\n",
            "Most Informative Features\n",
            "                   meter = True              ham : spam   =    264.5 : 1.0\n",
            "                   vince = True              ham : spam   =    200.0 : 1.0\n",
            "                     nom = True              ham : spam   =    195.6 : 1.0\n",
            "                     sex = True             spam : ham    =    195.1 : 1.0\n",
            "            prescription = True             spam : ham    =    169.2 : 1.0\n",
            "                     ect = True              ham : spam   =    167.7 : 1.0\n",
            "                    spam = True             spam : ham    =    145.8 : 1.0\n",
            "               forwarded = True              ham : spam   =    137.7 : 1.0\n",
            "                     fyi = True              ham : spam   =    137.0 : 1.0\n",
            "                    2005 = True             spam : ham    =    128.1 : 1.0\n",
            "                   logos = True             spam : ham    =    121.2 : 1.0\n",
            "                     oem = True             spam : ham    =    113.4 : 1.0\n",
            "              nomination = True              ham : spam   =    112.6 : 1.0\n",
            "                    pain = True             spam : ham    =    109.5 : 1.0\n",
            "                    2004 = True             spam : ham    =    105.3 : 1.0\n",
            "                   corel = True             spam : ham    =    104.4 : 1.0\n",
            "                  dealer = True             spam : ham    =    104.4 : 1.0\n",
            "                  weight = True             spam : ham    =     97.9 : 1.0\n",
            "                      cc = True              ham : spam   =     89.0 : 1.0\n",
            "                     pat = True              ham : spam   =     89.0 : 1.0\n",
            "                    1933 = True             spam : ham    =     88.8 : 1.0\n",
            "                     853 = True              ham : spam   =     83.8 : 1.0\n",
            "                     713 = True              ham : spam   =     83.4 : 1.0\n",
            "              materially = True             spam : ham    =     79.7 : 1.0\n",
            "             medications = True             spam : ham    =     78.4 : 1.0\n",
            "             predictions = True             spam : ham    =     77.1 : 1.0\n",
            "                identity = True             spam : ham    =     75.8 : 1.0\n",
            "                   plain = True             spam : ham    =     74.5 : 1.0\n",
            "                 shirley = True              ham : spam   =     73.7 : 1.0\n",
            "                  secret = True             spam : ham    =     73.2 : 1.0\n",
            "                    8859 = True             spam : ham    =     72.0 : 1.0\n",
            "                   boost = True             spam : ham    =     70.4 : 1.0\n",
            "                   penis = True             spam : ham    =     69.4 : 1.0\n",
            "                      wi = True             spam : ham    =     69.4 : 1.0\n",
            "                 beliefs = True             spam : ham    =     68.1 : 1.0\n",
            "                 artwork = True             spam : ham    =     68.1 : 1.0\n",
            "                 foresee = True             spam : ham    =     66.8 : 1.0\n",
            "                  studio = True             spam : ham    =     65.0 : 1.0\n",
            "                   epson = True             spam : ham    =     61.6 : 1.0\n",
            "           advertisement = True             spam : ham    =     59.2 : 1.0\n",
            "               satisfied = True             spam : ham    =     57.7 : 1.0\n",
            "                  africa = True             spam : ham    =     56.4 : 1.0\n",
            "                   adult = True             spam : ham    =     55.1 : 1.0\n",
            "                 explode = True             spam : ham    =     55.1 : 1.0\n",
            "         customerservice = True             spam : ham    =     53.8 : 1.0\n",
            "              scheduling = True              ham : spam   =     53.7 : 1.0\n",
            "                     apc = True             spam : ham    =     52.5 : 1.0\n",
            "                   shops = True             spam : ham    =     51.2 : 1.0\n",
            "                  norton = True             spam : ham    =     48.6 : 1.0\n",
            "                  darren = True              ham : spam   =     48.5 : 1.0\n"
          ]
        }
      ]
    }
  ]
}